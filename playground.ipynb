{
 "cells": [
  {
   "cell_type": "markdown",
   "metadata": {},
   "source": [
    "A place to test random stuff"
   ]
  },
  {
   "cell_type": "code",
   "execution_count": 1,
   "metadata": {},
   "outputs": [
    {
     "name": "stderr",
     "output_type": "stream",
     "text": [
      "/home/u1910100/miniconda3/envs/tiatoolbox/lib/python3.11/site-packages/torchvision/io/image.py:13: UserWarning: Failed to load image Python extension: '/home/u1910100/miniconda3/envs/tiatoolbox/lib/python3.11/site-packages/torchvision/image.so: undefined symbol: _ZN3c1017RegisterOperatorsD1Ev'If you don't plan on using image functionality from `torchvision.io`, you can ignore this warning. Otherwise, there might be something wrong with your environment. Did you have `libjpeg` or `libpng` installed before building `torchvision` from source?\n",
      "  warn(\n"
     ]
    }
   ],
   "source": [
    "from monkey.model.classification_model.efficientnet_b0 import (\n",
    "    EfficientNet_B0,\n",
    ")\n",
    "import torch\n",
    "import torch.nn as nn\n",
    "from torchsummary import summary\n",
    "from monkey.model.utils import (\n",
    "    get_classification_metrics,\n",
    "    get_activation_function,\n",
    ")\n",
    "from monkey.model.loss_functions import get_loss_function"
   ]
  },
  {
   "cell_type": "code",
   "execution_count": 7,
   "metadata": {},
   "outputs": [
    {
     "name": "stdout",
     "output_type": "stream",
     "text": [
      "probs tensor([[0.0014, 0.9986],\n",
      "        [0.0047, 0.9953],\n",
      "        [0.0032, 0.9968],\n",
      "        [0.0100, 0.9900]])\n",
      "torch.Size([4, 2])\n",
      "gt tensor([0, 0, 0, 1])\n",
      "torch.Size([4])\n",
      "loss 1.0612165927886963\n",
      "weighted loss 0.9787114262580872\n",
      "pred labels: [1, 1, 1, 1]\n",
      "true labels: [0, 0, 0, 1]\n",
      "{'Balanced_Accuracy': 0.5, 'Precision': 0.25, 'Recall': 1.0, 'F1': 0.4}\n"
     ]
    }
   ],
   "source": [
    "model = EfficientNet_B0(num_classes=2)\n",
    "model.eval()\n",
    "# summary(model)\n",
    "test = torch.randn(size=(4, 3, 32, 32), dtype=torch.float32)\n",
    "gt = torch.tensor([0, 0, 0, 1], dtype=torch.long)\n",
    "\n",
    "loss_fn = nn.CrossEntropyLoss()\n",
    "\n",
    "weighted_ce = get_loss_function(\"Weighted_CrossEntropy\")\n",
    "weighted_ce.set_weight(torch.tensor([0.4, 0.6]))\n",
    "\n",
    "pred = []\n",
    "\n",
    "act = get_activation_function(\"softmax\")\n",
    "\n",
    "with torch.no_grad():\n",
    "    out = model(test)\n",
    "    out = act(out)\n",
    "\n",
    "    pred_labels = torch.argmax(out, dim=1).cpu().tolist()\n",
    "\n",
    "    pred.extend(pred_labels)\n",
    "\n",
    "    loss = loss_fn(out, gt)\n",
    "    weighted_loss = weighted_ce.compute_loss(out, gt)\n",
    "\n",
    "gt_labels = gt.cpu().tolist()\n",
    "\n",
    "print(f\"probs {out}\")\n",
    "print(out.shape)\n",
    "print(f\"gt {gt}\")\n",
    "print(gt.shape)\n",
    "print(f\"loss {loss}\")\n",
    "print(f\"weighted loss {weighted_loss}\")\n",
    "\n",
    "print(f\"pred labels: {pred_labels}\")\n",
    "print(f\"true labels: {gt_labels}\")\n",
    "\n",
    "metrics = get_classification_metrics(gt_labels, pred_labels)\n",
    "print(metrics)"
   ]
  },
  {
   "cell_type": "code",
   "execution_count": null,
   "metadata": {},
   "outputs": [],
   "source": []
  }
 ],
 "metadata": {
  "kernelspec": {
   "display_name": "tiatoolbox",
   "language": "python",
   "name": "python3"
  },
  "language_info": {
   "codemirror_mode": {
    "name": "ipython",
    "version": 3
   },
   "file_extension": ".py",
   "mimetype": "text/x-python",
   "name": "python",
   "nbconvert_exporter": "python",
   "pygments_lexer": "ipython3",
   "version": "3.11.5"
  }
 },
 "nbformat": 4,
 "nbformat_minor": 2
}
