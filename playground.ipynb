{
 "cells": [
  {
   "cell_type": "markdown",
   "metadata": {},
   "source": [
    "A place to test random stuff"
   ]
  },
  {
   "cell_type": "code",
   "execution_count": null,
   "metadata": {},
   "outputs": [],
   "source": [
    "from monkey.model.classification_model.efficientnet_b0 import (\n",
    "    EfficientNet_B0,\n",
    ")\n",
    "import torch\n",
    "import torch.nn as nn\n",
    "from torchsummary import summary\n",
    "from monkey.model.utils import (\n",
    "    get_classification_metrics,\n",
    "    get_activation_function,\n",
    ")\n",
    "from monkey.model.loss_functions import get_loss_function"
   ]
  },
  {
   "cell_type": "code",
   "execution_count": null,
   "metadata": {},
   "outputs": [],
   "source": [
    "model = EfficientNet_B0(input_channels=4, num_classes=2)\n",
    "model = model.eval()\n",
    "# summary(model, input_size=(3,32,32))\n",
    "print(model.feature_extractor)"
   ]
  },
  {
   "cell_type": "code",
   "execution_count": null,
   "metadata": {},
   "outputs": [],
   "source": [
    "test = torch.randn(size=(4, 4, 32, 32), dtype=torch.float32)\n",
    "gt = torch.tensor([0, 0, 0, 1], dtype=torch.long)\n",
    "\n",
    "loss_fn = nn.CrossEntropyLoss()\n",
    "\n",
    "weighted_ce = get_loss_function(\"Weighted_CrossEntropy\")\n",
    "weighted_ce.set_weight(torch.tensor([0.4, 0.6]))\n",
    "\n",
    "pred = []\n",
    "\n",
    "act = get_activation_function(\"softmax\")\n",
    "\n",
    "with torch.no_grad():\n",
    "    out = model(test)\n",
    "    print(out.shape)\n",
    "    out = act(out)\n",
    "\n",
    "    pred_labels = torch.argmax(out, dim=1).cpu().tolist()\n",
    "\n",
    "    pred.extend(pred_labels)\n",
    "\n",
    "    loss = loss_fn(out, gt)\n",
    "    weighted_loss = weighted_ce.compute_loss(out, gt)\n",
    "\n",
    "gt_labels = gt.cpu().tolist()\n",
    "\n",
    "print(f\"probs {out}\")\n",
    "print(out.shape)\n",
    "print(f\"gt {gt}\")\n",
    "print(gt.shape)\n",
    "print(f\"loss {loss}\")\n",
    "print(f\"weighted loss {weighted_loss}\")\n",
    "\n",
    "print(f\"pred labels: {pred_labels}\")\n",
    "print(f\"true labels: {gt_labels}\")\n",
    "\n",
    "metrics = get_classification_metrics(gt_labels, pred_labels)\n",
    "print(metrics)"
   ]
  },
  {
   "cell_type": "code",
   "execution_count": null,
   "metadata": {},
   "outputs": [],
   "source": []
  }
 ],
 "metadata": {
  "kernelspec": {
   "display_name": "tiatoolbox",
   "language": "python",
   "name": "python3"
  },
  "language_info": {
   "codemirror_mode": {
    "name": "ipython",
    "version": 3
   },
   "file_extension": ".py",
   "mimetype": "text/x-python",
   "name": "python",
   "nbconvert_exporter": "python",
   "pygments_lexer": "ipython3",
   "version": "3.11.5"
  }
 },
 "nbformat": 4,
 "nbformat_minor": 2
}
