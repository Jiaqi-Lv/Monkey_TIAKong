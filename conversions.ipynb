{
 "cells": [
  {
   "cell_type": "code",
   "execution_count": 6,
   "metadata": {},
   "outputs": [],
   "source": [
    "from tiatoolbox.wsicore.wsireader import WSIReader\n",
    "import numpy as np\n",
    "import matplotlib.pyplot as plt\n",
    "import os\n",
    "from monkey.data.data_utils import (\n",
    "    parse_json_annotations,\n",
    "    detection_to_annotation_store,\n",
    ")\n",
    "\n",
    "# print(fetch_pretrained_weights(\"mapde-conic\"))"
   ]
  },
  {
   "cell_type": "markdown",
   "metadata": {},
   "source": [
    "Convert Ground Truth Annotations to AnnotationStore for visualization"
   ]
  },
  {
   "cell_type": "code",
   "execution_count": 5,
   "metadata": {},
   "outputs": [],
   "source": [
    "annotations_folder = (\n",
    "    \"/home/u1910100/Downloads/Monkey/annotations/json\"\n",
    ")\n",
    "\n",
    "save_dir = \"/home/u1910100/Documents/Monkey/local_output\"\n",
    "\n",
    "wsi_id = \"A_P000001\"\n",
    "inflammatory_json_name = f\"{wsi_id}_inflammatory-cells.json\"\n",
    "lymphocyte_json_name = f\"{wsi_id}_lymphocytes.json\"\n",
    "monocyte_json_name = f\"{wsi_id}_monocytes.json\"\n",
    "\n",
    "inflammatory_json_path = os.path.join(\n",
    "    annotations_folder, inflammatory_json_name\n",
    ")\n",
    "lymphocytes_json_path = os.path.join(\n",
    "    annotations_folder, lymphocyte_json_name\n",
    ")\n",
    "monocyte_json_path = os.path.join(\n",
    "    annotations_folder, monocyte_json_name\n",
    ")\n",
    "\n",
    "inflammatory_annotations = parse_json_annotations(\n",
    "    inflammatory_json_path\n",
    ")\n",
    "inflammatory_points = inflammatory_annotations[\"points\"]\n",
    "lymphocyte_annotations = parse_json_annotations(lymphocytes_json_path)\n",
    "lymphocyte_points = lymphocyte_annotations[\"points\"]\n",
    "monocyte_annotations = parse_json_annotations(monocyte_json_path)\n",
    "monocyte_points = monocyte_annotations[\"points\"]\n",
    "\n",
    "\n",
    "records = []\n",
    "for point in inflammatory_points:\n",
    "    records.append(\n",
    "        {\n",
    "            \"x\": point[\"point\"][0],\n",
    "            \"y\": point[\"point\"][1],\n",
    "            \"type\": \"inflammatory\",\n",
    "            \"prob\": 1.0,\n",
    "        }\n",
    "    )\n",
    "\n",
    "\n",
    "store = detection_to_annotation_store(records, scale_factor=1.0)\n",
    "store_save_path = os.path.join(save_dir, f\"{wsi_id}_true.db\")\n",
    "store.dump(store_save_path)"
   ]
  },
  {
   "cell_type": "markdown",
   "metadata": {},
   "source": [
    "Convert tif mask to png overlay"
   ]
  },
  {
   "cell_type": "code",
   "execution_count": 11,
   "metadata": {},
   "outputs": [
    {
     "name": "stderr",
     "output_type": "stream",
     "text": [
      "|2024-10-29|12:57:27.042| [WARNING] Metadata: Falling back to TIFF resolution tag for microns-per-pixel (MPP).\n",
      "|2024-10-29|12:57:27.043| [WARNING] Metadata: Objective power inferred from microns-per-pixel (MPP).\n"
     ]
    },
    {
     "data": {
      "image/png": "[encoded data removed]",
      "text/plain": [
       "<Figure size 640x480 with 1 Axes>"
      ]
     },
     "metadata": {},
     "output_type": "display_data"
    }
   ],
   "source": [
    "mask_path = \"/home/u1910100/Documents/Monkey/test/input/images/tissue-mask/A_P000001_mask.tif\"\n",
    "mask_reader = WSIReader.open(mask_path)\n",
    "mask_thumbnail = mask_reader.slide_thumbnail()\n",
    "binary_mask = mask_thumbnail * 255\n",
    "\n",
    "plt.imshow(binary_mask)\n",
    "plt.axis(\"off\")\n",
    "plt.show()\n",
    "\n",
    "from PIL import Image\n",
    "\n",
    "image = Image.fromarray(binary_mask)\n",
    "image.save(\n",
    "    \"/home/u1910100/Documents/Monkey/local_output/A_P000001_PAS_CPG_mask.png\"\n",
    ")"
   ]
  },
  {
   "cell_type": "code",
   "execution_count": null,
   "metadata": {},
   "outputs": [],
   "source": []
  }
 ],
 "metadata": {
  "kernelspec": {
   "display_name": "tiatoolbox",
   "language": "python",
   "name": "python3"
  },
  "language_info": {
   "codemirror_mode": {
    "name": "ipython",
    "version": 3
   },
   "file_extension": ".py",
   "mimetype": "text/x-python",
   "name": "python",
   "nbconvert_exporter": "python",
   "pygments_lexer": "ipython3",
   "version": "3.11.5"
  }
 },
 "nbformat": 4,
 "nbformat_minor": 2
}
