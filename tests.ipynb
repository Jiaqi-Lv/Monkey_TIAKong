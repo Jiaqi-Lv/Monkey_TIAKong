{
 "cells": [
  {
   "cell_type": "code",
   "execution_count": 1,
   "metadata": {},
   "outputs": [
    {
     "name": "stderr",
     "output_type": "stream",
     "text": [
      "|2024-10-23|16:35:15.790| [WARNING] /home/u1910100/miniconda3/envs/tiatoolbox/lib/python3.11/site-packages/torchvision/io/image.py:13: UserWarning: Failed to load image Python extension: '/home/u1910100/miniconda3/envs/tiatoolbox/lib/python3.11/site-packages/torchvision/image.so: undefined symbol: _ZN3c1017RegisterOperatorsD1Ev'If you don't plan on using image functionality from `torchvision.io`, you can ignore this warning. Otherwise, there might be something wrong with your environment. Did you have `libjpeg` or `libpng` installed before building `torchvision` from source?\n",
      "  warn(\n",
      "\n",
      "|2024-10-23|16:35:17.228| [WARNING] /home/u1910100/miniconda3/envs/tiatoolbox/lib/python3.11/site-packages/umap/distances.py:1063: NumbaDeprecationWarning: The 'nopython' keyword argument was not supplied to the 'numba.jit' decorator. The implicit default value for this argument is currently False, but it will be changed to True in Numba 0.59.0. See https://numba.readthedocs.io/en/stable/reference/deprecation.html#deprecation-of-object-mode-fall-back-behaviour-when-using-jit for details.\n",
      "  @numba.jit()\n",
      "\n",
      "|2024-10-23|16:35:17.229| [WARNING] /home/u1910100/miniconda3/envs/tiatoolbox/lib/python3.11/site-packages/umap/distances.py:1071: NumbaDeprecationWarning: The 'nopython' keyword argument was not supplied to the 'numba.jit' decorator. The implicit default value for this argument is currently False, but it will be changed to True in Numba 0.59.0. See https://numba.readthedocs.io/en/stable/reference/deprecation.html#deprecation-of-object-mode-fall-back-behaviour-when-using-jit for details.\n",
      "  @numba.jit()\n",
      "\n",
      "|2024-10-23|16:35:17.229| [WARNING] /home/u1910100/miniconda3/envs/tiatoolbox/lib/python3.11/site-packages/umap/distances.py:1086: NumbaDeprecationWarning: The 'nopython' keyword argument was not supplied to the 'numba.jit' decorator. The implicit default value for this argument is currently False, but it will be changed to True in Numba 0.59.0. See https://numba.readthedocs.io/en/stable/reference/deprecation.html#deprecation-of-object-mode-fall-back-behaviour-when-using-jit for details.\n",
      "  @numba.jit()\n",
      "\n",
      "|2024-10-23|16:35:19.004| [WARNING] /home/u1910100/miniconda3/envs/tiatoolbox/lib/python3.11/site-packages/umap/umap_.py:660: NumbaDeprecationWarning: The 'nopython' keyword argument was not supplied to the 'numba.jit' decorator. The implicit default value for this argument is currently False, but it will be changed to True in Numba 0.59.0. See https://numba.readthedocs.io/en/stable/reference/deprecation.html#deprecation-of-object-mode-fall-back-behaviour-when-using-jit for details.\n",
      "  @numba.jit()\n",
      "\n"
     ]
    }
   ],
   "source": [
    "from tiatoolbox.models import MapDe\n",
    "from tiatoolbox.utils.misc import select_device\n",
    "from tiatoolbox.wsicore.wsireader import WSIReader\n",
    "import torch\n",
    "import numpy as np\n",
    "import matplotlib.pyplot as plt\n",
    "from tiatoolbox.tools.patchextraction import get_patch_extractor\n",
    "from tiatoolbox.annotation.storage import Annotation, SQLiteStore\n",
    "from shapely import Point, Polygon, box\n",
    "\n",
    "# print(fetch_pretrained_weights(\"mapde-conic\"))"
   ]
  },
  {
   "cell_type": "code",
   "execution_count": 7,
   "metadata": {},
   "outputs": [],
   "source": [
    "def load_mapde() -> MapDe:\n",
    "    \"\"\"Loads MapDe model with specified weights.\"\"\"\n",
    "    model = MapDe(min_distance=4, threshold_abs=250)\n",
    "    weights_path = (\n",
    "        \"/home/u1910100/GitHub/Monkey_TIAKong/mapde-conic.pth\"\n",
    "    )\n",
    "    map_location = select_device(on_gpu=True)\n",
    "    pretrained = torch.load(weights_path, map_location=map_location)\n",
    "    model.load_state_dict(pretrained)\n",
    "\n",
    "    return model"
   ]
  },
  {
   "cell_type": "code",
   "execution_count": 3,
   "metadata": {},
   "outputs": [],
   "source": [
    "def points_to_annotation_store(points: list, scale_factor: float = 1):\n",
    "    \"\"\"\n",
    "    Args: points(list): list of (x,y) coordinates\n",
    "    \"\"\"\n",
    "    annotation_store = SQLiteStore()\n",
    "\n",
    "    for coord in points:\n",
    "        x = int(coord[0] * scale_factor)\n",
    "        y = int(coord[1] * scale_factor)\n",
    "        annotation_store.append(\n",
    "            Annotation(\n",
    "                geometry=Polygon.from_bounds(\n",
    "                    x - 16, y - 16, x + 16, y + 16\n",
    "                ),\n",
    "                properties={\"class\": 1, \"type\": \"Cell\"},\n",
    "            )\n",
    "            # Annotation(geometry=Point(coord[0], coord[1]), properties={\"class\": 1, \"type\": \"TIL\"})\n",
    "        )\n",
    "\n",
    "    return annotation_store\n",
    "\n",
    "\n",
    "def scale_coords(coords: list, scale_factor: float = 1):\n",
    "    new_coords = []\n",
    "    for coord in coords:\n",
    "        x = int(coord[0] * scale_factor)\n",
    "        y = int(coord[1] * scale_factor)\n",
    "        new_coords.append([x, y])\n",
    "\n",
    "    return new_coords"
   ]
  },
  {
   "cell_type": "code",
   "execution_count": 12,
   "metadata": {},
   "outputs": [
    {
     "name": "stderr",
     "output_type": "stream",
     "text": [
      "|2024-10-23|16:43:55.433| [WARNING] Metadata: Falling back to TIFF resolution tag for microns-per-pixel (MPP).\n",
      "|2024-10-23|16:43:55.434| [WARNING] Metadata: Objective power inferred from microns-per-pixel (MPP).\n",
      "|2024-10-23|16:43:55.437| [WARNING] Metadata: Falling back to TIFF resolution tag for microns-per-pixel (MPP).\n",
      "|2024-10-23|16:43:55.438| [WARNING] Metadata: Objective power inferred from microns-per-pixel (MPP).\n"
     ]
    },
    {
     "name": "stdout",
     "output_type": "stream",
     "text": [
      "[0.24199951 0.24199951]\n",
      "56\n"
     ]
    },
    {
     "name": "stderr",
     "output_type": "stream",
     "text": [
      "|2024-10-23|16:43:56.646| [WARNING] /home/u1910100/miniconda3/envs/tiatoolbox/lib/python3.11/site-packages/torch/nn/modules/module.py:1532: UserWarning: Implicit dimension choice for softmax has been deprecated. Change the call to include dim=X as an argument.\n",
      "  return self._call_impl(*args, **kwargs)\n",
      "\n"
     ]
    }
   ],
   "source": [
    "wsi_path = \"/home/u1910100/Documents/Monkey/test/input/images/kidney-transplant-biopsy-wsi-pas/A_P000001_PAS_CPG.tif\"\n",
    "mask_path = \"/home/u1910100/Documents/Monkey/test/input/images/tissue-mask/A_P000001_mask.tif\"\n",
    "\n",
    "wsi_reader = WSIReader.open(wsi_path)\n",
    "\n",
    "\n",
    "print(\n",
    "    wsi_reader.convert_resolution_units(\n",
    "        input_res=0, input_unit=\"level\", output_unit=\"mpp\"\n",
    "    )\n",
    ")\n",
    "\n",
    "\n",
    "mask_reader = WSIReader.open(mask_path)\n",
    "mask_thumbnail = mask_reader.slide_thumbnail()\n",
    "binary_mask = mask_thumbnail[:, :, 0]\n",
    "\n",
    "patch_extractor = get_patch_extractor(\n",
    "    input_img=wsi_reader,\n",
    "    input_mask=binary_mask,\n",
    "    method_name=\"slidingwindow\",\n",
    "    patch_size=(252, 252),\n",
    "    stride=(252, 252),\n",
    "    resolution=0.5,\n",
    "    units=\"mpp\",\n",
    ")\n",
    "\n",
    "print(len(patch_extractor))\n",
    "mapde_result = []\n",
    "\n",
    "model = load_mapde()\n",
    "model.to(\"cuda\")\n",
    "\n",
    "for i, patch in enumerate(patch_extractor):\n",
    "    bb = patch_extractor.coordinate_list[i]\n",
    "\n",
    "    patch_input = torch.from_numpy(patch)[None]\n",
    "    patch_input.to(\"cuda\").float()\n",
    "\n",
    "    output = model.infer_batch(model, patch_input, on_gpu=True)\n",
    "    output = model.postproc(output[0])\n",
    "    for coord in output:\n",
    "        mapde_result.append([coord[0] + bb[0], coord[1] + bb[1]])"
   ]
  },
  {
   "cell_type": "code",
   "execution_count": 9,
   "metadata": {},
   "outputs": [
    {
     "name": "stdout",
     "output_type": "stream",
     "text": [
      "[[10795, 86407], [10731, 86409], [11097, 86351], [11194, 86388], [11274, 86225], [11247, 86301], [11836, 86407], [11971, 86376], [12152, 86411], [12400, 86413], [12477, 86409], [12803, 86405], [10305, 86890], [10677, 86929], [10611, 86686], [10557, 86508], [11173, 86597], [11006, 86748], [11440, 86434], [10989, 86642], [11035, 86601], [13531, 86812], [13130, 86754], [13053, 86595], [13448, 86580], [13528, 86589], [13706, 86936], [14053, 86851], [10305, 87411], [9900, 87403], [10165, 87403], [9952, 87452], [10562, 87442], [11028, 87438], [11929, 87378], [11966, 87093], [11969, 87266], [11923, 86952], [12008, 87372], [12092, 87093], [13642, 86952], [13785, 87235], [10002, 87836], [10214, 87944], [9933, 87942], [10074, 87839], [10927, 87653], [10747, 87572], [10623, 87913], [11270, 87969], [11318, 87679], [11927, 87634], [11915, 87762], [11958, 87787], [11894, 87632], [11619, 87973], [12049, 87560], [12995, 87733], [10014, 88452], [10099, 88289], [10396, 88357], [11272, 88239], [11520, 88093], [11524, 88134], [12479, 88491], [12365, 88084], [19595, 88229], [19551, 88080], [20301, 88035], [20221, 88163], [19367, 88694], [19768, 88661], [19367, 88599], [19958, 89016], [20185, 88609], [20016, 88839], [20646, 88677], [20489, 88595], [20597, 88651], [20652, 88998], [20960, 88901], [20913, 88725], [20931, 88956], [20944, 88855], [21274, 88799], [18766, 89217], [18814, 89142], [19504, 89339], [19450, 89518], [19578, 89237], [19706, 89537], [19425, 89386], [19541, 89498], [20136, 89316], [20033, 89283], [19824, 89175], [20417, 89423], [20425, 89388], [20528, 89401], [20553, 89465], [21256, 89132], [21194, 89035], [21043, 89520], [21274, 89151], [21320, 89188], [21223, 89165], [21305, 89212], [21026, 89035], [20971, 89039], [21287, 89184], [21169, 89462], [19398, 90035], [19551, 90062], [19832, 90060], [20570, 89555], [20359, 90033], [21175, 89661], [21312, 89965], [20894, 89638], [21014, 89787]]\n"
     ]
    }
   ],
   "source": [
    "scale_factor = 0.5 / 0.24199951445730394\n",
    "scaled_result = scale_coords(mapde_result, scale_factor)\n",
    "print(scaled_result)\n",
    "\n",
    "annoation_store = points_to_annotation_store(scaled_result)\n",
    "\n",
    "annoation_store.dump(\n",
    "    \"/home/u1910100/Documents/Monkey/test/input/images/overlays/A_P000001_PAS_CPG.db\"\n",
    ")"
   ]
  },
  {
   "cell_type": "code",
   "execution_count": 11,
   "metadata": {},
   "outputs": [],
   "source": [
    "from monkey.data.data_utils import px_to_mm, write_json_file\n",
    "import os\n",
    "\n",
    "\n",
    "output_dict_lymphocytes = {\n",
    "    \"name\": \"lymphocytes\",\n",
    "    \"type\": \"Multiple points\",\n",
    "    \"version\": {\"major\": 1, \"minor\": 0},\n",
    "    \"points\": [],\n",
    "}\n",
    "\n",
    "output_dict_monocytes = {\n",
    "    \"name\": \"monocytes\",\n",
    "    \"type\": \"Multiple points\",\n",
    "    \"version\": {\"major\": 1, \"minor\": 0},\n",
    "    \"points\": [],\n",
    "}\n",
    "\n",
    "output_dict_inflammatory_cells = {\n",
    "    \"name\": \"inflammatory-cells\",\n",
    "    \"type\": \"Multiple points\",\n",
    "    \"version\": {\"major\": 1, \"minor\": 0},\n",
    "    \"points\": [],\n",
    "}\n",
    "\n",
    "for i, coord in enumerate(scaled_result):\n",
    "    counter = i + 1\n",
    "    x = coord[0]\n",
    "    y = coord[1]\n",
    "    confidence = 0.9\n",
    "    prediction_record = {\n",
    "        \"name\": \"Point \" + str(counter),\n",
    "        \"point\": [\n",
    "            px_to_mm(x, 0.24199951445730394),\n",
    "            px_to_mm(y, 0.24199951445730394),\n",
    "            0.24199951445730394,\n",
    "        ],\n",
    "        \"probability\": confidence,\n",
    "    }\n",
    "    output_dict_lymphocytes[\"points\"].append(prediction_record)\n",
    "    output_dict_monocytes[\"points\"].append(\n",
    "        prediction_record\n",
    "    )  # should be replaced with detected monocytes\n",
    "    output_dict_inflammatory_cells[\"points\"].append(prediction_record)\n",
    "\n",
    "\n",
    "json_filename = \"detected-lymphocytes.json\"\n",
    "output_path = \"/home/u1910100/Documents/Monkey/test/output\"\n",
    "output_path_json = os.path.join(output_path, json_filename)\n",
    "write_json_file(\n",
    "    location=output_path_json, content=output_dict_lymphocytes\n",
    ")\n",
    "\n",
    "json_filename_monocytes = \"detected-monocytes.json\"\n",
    "# it should be replaced with correct json files\n",
    "output_path_json = os.path.join(output_path, json_filename_monocytes)\n",
    "write_json_file(\n",
    "    location=output_path_json, content=output_dict_monocytes\n",
    ")\n",
    "\n",
    "json_filename_inflammatory_cells = \"detected-inflammatory-cells.json\"\n",
    "# it should be replaced with correct json files\n",
    "output_path_json = os.path.join(\n",
    "    output_path, json_filename_inflammatory_cells\n",
    ")\n",
    "write_json_file(\n",
    "    location=output_path_json, content=output_dict_inflammatory_cells\n",
    ")"
   ]
  }
 ],
 "metadata": {
  "kernelspec": {
   "display_name": "tiatoolbox",
   "language": "python",
   "name": "python3"
  },
  "language_info": {
   "codemirror_mode": {
    "name": "ipython",
    "version": 3
   },
   "file_extension": ".py",
   "mimetype": "text/x-python",
   "name": "python",
   "nbconvert_exporter": "python",
   "pygments_lexer": "ipython3",
   "version": "3.11.5"
  }
 },
 "nbformat": 4,
 "nbformat_minor": 2
}
