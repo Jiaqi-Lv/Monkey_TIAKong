{
 "cells": [
  {
   "cell_type": "markdown",
   "metadata": {},
   "source": [
    "Import"
   ]
  },
  {
   "cell_type": "code",
   "execution_count": 2,
   "metadata": {},
   "outputs": [],
   "source": [
    "import numpy as np\n",
    "import matplotlib.pyplot as plt\n",
    "import os\n",
    "import json\n",
    "import re\n",
    "import cv2\n",
    "import json\n",
    "from pprint import pprint\n",
    "import random"
   ]
  },
  {
   "cell_type": "markdown",
   "metadata": {},
   "source": [
    "Helper Functions"
   ]
  },
  {
   "cell_type": "code",
   "execution_count": 14,
   "metadata": {},
   "outputs": [],
   "source": [
    "def extract_id(file_name: str) -> str | None:\n",
    "    \"\"\"\n",
    "    Give a file name such as 'A_P000001_PAS_CPG.tif',\n",
    "    Extract the file ID: 'A_P000001' using regular expression\n",
    "    \"\"\"\n",
    "    match = re.match(r\"([A-Z]_P\\d+)_\", file_name, re.IGNORECASE)\n",
    "\n",
    "    if match:\n",
    "        return match.group(1)\n",
    "    else:\n",
    "        return None\n",
    "\n",
    "\n",
    "def cell_mask_to_rgb(cell_mask: np.ndarray) -> np.ndarray:\n",
    "    \"\"\"For visualization purposes\n",
    "    Convert 2D cell mask to an RGB image\n",
    "    2D cell mask:\n",
    "    1 - Lympchoyte centroids\n",
    "    2 - Monocytes centroids\n",
    "    RGB image:\n",
    "    Green - Lympchoyte centroids\n",
    "    Blue - Monocytes centroids\n",
    "    \"\"\"\n",
    "    kernel = np.ones((5, 5), np.uint8)\n",
    "    cell_mask = cv2.dilate(cell_mask, kernel, iterations=1)\n",
    "    rgb_mask = np.zeros(\n",
    "        (cell_mask.shape[0], cell_mask.shape[1], 3), dtype=np.uint8\n",
    "    )\n",
    "    rgb_mask[cell_mask == 1] = (0, 255, 0)\n",
    "    rgb_mask[cell_mask == 2] = (0, 0, 255)\n",
    "    return rgb_mask"
   ]
  },
  {
   "cell_type": "markdown",
   "metadata": {},
   "source": [
    "Visualize 50 random patches"
   ]
  },
  {
   "cell_type": "code",
   "execution_count": null,
   "metadata": {},
   "outputs": [],
   "source": [
    "# Specify data folders\n",
    "\n",
    "# Folder containing image patches\n",
    "patch_image_dir = \"/home/u1910100/Documents/Monkey/patches_256/images\"\n",
    "# Folder containing cell masks\n",
    "cell_mask_dir = (\n",
    "    \"/home/u1910100/Documents/Monkey/patches_256/annotations/masks\"\n",
    ")\n",
    "# Folder containing json files\n",
    "json_dir = (\n",
    "    \"/home/u1910100/Documents/Monkey/patches_256/annotations/json\"\n",
    ")\n",
    "\n",
    "\n",
    "# Visualize 50 random patches\n",
    "file_names = os.listdir(patch_image_dir)\n",
    "files_sample = random.sample(file_names, 50)\n",
    "\n",
    "for name in files_sample:\n",
    "    name_without_ext = os.path.splitext(name)[0]\n",
    "\n",
    "    # Get path to files\n",
    "    patch_image_path = os.path.join(\n",
    "        patch_image_dir, f\"{name_without_ext}.npy\"\n",
    "    )\n",
    "    cell_mask_path = os.path.join(\n",
    "        cell_mask_dir, f\"{name_without_ext}.npy\"\n",
    "    )\n",
    "    json_path = os.path.join(json_dir, f\"{name_without_ext}.json\")\n",
    "\n",
    "    # load RGB patch and cell mask\n",
    "    image_patch = np.load(patch_image_path)\n",
    "    cell_mask = np.load(cell_mask_path)\n",
    "    # Convert cell mask to RGB image for visualization\n",
    "    rgb_cell_mask = cell_mask_to_rgb(cell_mask)\n",
    "\n",
    "    # load json file\n",
    "    annotations = {}\n",
    "    with open(json_path, \"r\") as file:\n",
    "        annotations = json.load(file)\n",
    "\n",
    "    # Output\n",
    "    pprint(name)\n",
    "    pprint(annotations)\n",
    "    fig, axes = plt.subplots(1, 3, figsize=(10, 10))\n",
    "    axes[0].imshow(image_patch)\n",
    "    axes[0].title.set_text(\"RGB Patch\")\n",
    "    axes[1].imshow(rgb_cell_mask)\n",
    "    axes[1].title.set_text(\"Cell Mask\")\n",
    "    axes[2].imshow(image_patch, alpha=0.5)\n",
    "    axes[2].imshow(rgb_cell_mask, alpha=0.5)\n",
    "    axes[2].title.set_text(\"Cell Mask overlay on RGB Patch\")\n",
    "    plt.show()"
   ]
  },
  {
   "cell_type": "markdown",
   "metadata": {},
   "source": [
    "Count cells"
   ]
  },
  {
   "cell_type": "code",
   "execution_count": 6,
   "metadata": {},
   "outputs": [
    {
     "name": "stdout",
     "output_type": "stream",
     "text": [
      "lympho count = 74092\n",
      "mono count = 38347\n"
     ]
    }
   ],
   "source": [
    "# Folder containing json files\n",
    "json_dir = (\n",
    "    \"/home/u1910100/Documents/Monkey/patches_256/annotations/json\"\n",
    ")\n",
    "file_names = os.listdir(json_dir)\n",
    "\n",
    "lymphocyte_count = 0\n",
    "monocytes_count = 0\n",
    "\n",
    "for name in file_names:\n",
    "    json_path = os.path.join(json_dir, name)\n",
    "    annotations = {}\n",
    "    with open(json_path, \"r\") as file:\n",
    "        annotations = json.load(file)\n",
    "\n",
    "    lymph_coords = annotations[\"lymphocytes\"]\n",
    "    mono_coords = annotations[\"monocytes\"]\n",
    "\n",
    "    lymphocyte_count += len(lymph_coords)\n",
    "    monocytes_count += len(mono_coords)\n",
    "\n",
    "\n",
    "print(f\"lympho count = {lymphocyte_count}\")\n",
    "print(f\"mono count = {monocytes_count}\")"
   ]
  }
 ],
 "metadata": {
  "kernelspec": {
   "display_name": "tiatoolbox",
   "language": "python",
   "name": "python3"
  },
  "language_info": {
   "codemirror_mode": {
    "name": "ipython",
    "version": 3
   },
   "file_extension": ".py",
   "mimetype": "text/x-python",
   "name": "python",
   "nbconvert_exporter": "python",
   "pygments_lexer": "ipython3",
   "version": "3.11.5"
  }
 },
 "nbformat": 4,
 "nbformat_minor": 2
}
