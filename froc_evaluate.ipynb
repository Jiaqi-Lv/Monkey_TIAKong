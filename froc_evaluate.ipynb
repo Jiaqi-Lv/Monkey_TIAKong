{
 "cells": [
  {
   "cell_type": "code",
   "execution_count": 1,
   "metadata": {},
   "outputs": [
    {
     "name": "stderr",
     "output_type": "stream",
     "text": [
      "/home/u1910100/miniconda3/envs/tiatoolbox/lib/python3.11/site-packages/torchvision/io/image.py:13: UserWarning: Failed to load image Python extension: '/home/u1910100/miniconda3/envs/tiatoolbox/lib/python3.11/site-packages/torchvision/image.so: undefined symbol: _ZN3c1017RegisterOperatorsD1Ev'If you don't plan on using image functionality from `torchvision.io`, you can ignore this warning. Otherwise, there might be something wrong with your environment. Did you have `libjpeg` or `libpng` installed before building `torchvision` from source?\n",
      "  warn(\n",
      "|2024-11-04|15:55:44.402| [WARNING] /home/u1910100/miniconda3/envs/tiatoolbox/lib/python3.11/site-packages/umap/distances.py:1063: NumbaDeprecationWarning: The 'nopython' keyword argument was not supplied to the 'numba.jit' decorator. The implicit default value for this argument is currently False, but it will be changed to True in Numba 0.59.0. See https://numba.readthedocs.io/en/stable/reference/deprecation.html#deprecation-of-object-mode-fall-back-behaviour-when-using-jit for details.\n",
      "  @numba.jit()\n",
      "\n",
      "|2024-11-04|15:55:44.402| [WARNING] /home/u1910100/miniconda3/envs/tiatoolbox/lib/python3.11/site-packages/umap/distances.py:1071: NumbaDeprecationWarning: The 'nopython' keyword argument was not supplied to the 'numba.jit' decorator. The implicit default value for this argument is currently False, but it will be changed to True in Numba 0.59.0. See https://numba.readthedocs.io/en/stable/reference/deprecation.html#deprecation-of-object-mode-fall-back-behaviour-when-using-jit for details.\n",
      "  @numba.jit()\n",
      "\n",
      "|2024-11-04|15:55:44.403| [WARNING] /home/u1910100/miniconda3/envs/tiatoolbox/lib/python3.11/site-packages/umap/distances.py:1086: NumbaDeprecationWarning: The 'nopython' keyword argument was not supplied to the 'numba.jit' decorator. The implicit default value for this argument is currently False, but it will be changed to True in Numba 0.59.0. See https://numba.readthedocs.io/en/stable/reference/deprecation.html#deprecation-of-object-mode-fall-back-behaviour-when-using-jit for details.\n",
      "  @numba.jit()\n",
      "\n",
      "|2024-11-04|15:55:46.254| [WARNING] /home/u1910100/miniconda3/envs/tiatoolbox/lib/python3.11/site-packages/umap/umap_.py:660: NumbaDeprecationWarning: The 'nopython' keyword argument was not supplied to the 'numba.jit' decorator. The implicit default value for this argument is currently False, but it will be changed to True in Numba 0.59.0. See https://numba.readthedocs.io/en/stable/reference/deprecation.html#deprecation-of-object-mode-fall-back-behaviour-when-using-jit for details.\n",
      "  @numba.jit()\n",
      "\n"
     ]
    }
   ],
   "source": [
    "from evaluation.evaluate import (\n",
    "    get_froc_vals,\n",
    "    convert_mm_to_pixel,\n",
    "    get_F1_scores,\n",
    ")\n",
    "from monkey.data.data_utils import open_json_file, extract_id\n",
    "import os\n",
    "from pprint import pprint"
   ]
  },
  {
   "cell_type": "code",
   "execution_count": 5,
   "metadata": {},
   "outputs": [
    {
     "name": "stdout",
     "output_type": "stream",
     "text": [
      "['A_P000022_PAS_CPG.tif', 'A_P000024_PAS_CPG.tif', 'A_P000029_PAS_CPG.tif', 'A_P000030_PAS_CPG.tif', 'A_P000031_PAS_CPG.tif', 'A_P000032_PAS_CPG.tif', 'B_P000011_PAS_CPG.tif', 'B_P000012_PAS_CPG.tif', 'B_P000013_PAS_CPG.tif', 'B_P000014_PAS_CPG.tif', 'B_P000015_PAS_CPG.tif', 'C_P000031_PAS_CPG.tif', 'C_P000032_PAS_CPG.tif', 'C_P000033_PAS_CPG.tif', 'C_P000034_PAS_CPG.tif', 'C_P000035_PAS_CPG.tif', 'D_P000011_PAS_CPG.tif', 'D_P000012_PAS_CPG.tif', 'D_P000013_PAS_CPG.tif', 'D_P000014_PAS_CPG.tif']\n",
      "'Average FROC = 0.22963233908920685'\n",
      "'Average F1 = 0.6289410948462979'\n"
     ]
    }
   ],
   "source": [
    "GROUND_TRUTH_DIRECTORY = (\n",
    "    \"/home/u1910100/Downloads/Monkey/annotations/json\"\n",
    ")\n",
    "FOLD = 3\n",
    "model_name = \"efficientunetb0\"\n",
    "PREDICT_DIR = f\"/home/u1910100/Documents/Monkey/local_output/{model_name}/Fold_{FOLD}\"\n",
    "SPACING_LEVEL0 = 0.24199951445730394\n",
    "\n",
    "split_info = open_json_file(\n",
    "    \"/home/u1910100/Documents/Monkey/patches_256/wsi_level_split.json\"\n",
    ")\n",
    "\n",
    "val_wsi_files = split_info[f\"Fold_{FOLD}\"][\"test_files\"]\n",
    "\n",
    "print(val_wsi_files)\n",
    "\n",
    "sum_score = 0.0\n",
    "sum_f1 = 0.0\n",
    "\n",
    "for wsi_name in val_wsi_files:\n",
    "    wsi_name_without_ext = os.path.splitext(wsi_name)[0]\n",
    "    wsi_id = extract_id(wsi_name)\n",
    "\n",
    "    gt_inf_cells = open_json_file(\n",
    "        json_path=os.path.join(\n",
    "            GROUND_TRUTH_DIRECTORY,\n",
    "            f\"{wsi_id}_inflammatory-cells.json\",\n",
    "        )\n",
    "    )\n",
    "\n",
    "    location_detected_inflammatory_cells = os.path.join(\n",
    "        PREDICT_DIR, f\"{wsi_id}_detected-inflammatory-cells.json\"\n",
    "    )\n",
    "\n",
    "    result_detected_inflammatory_cells = open_json_file(\n",
    "        json_path=location_detected_inflammatory_cells,\n",
    "    )\n",
    "    result_detected_inflammatory_cells = convert_mm_to_pixel(\n",
    "        result_detected_inflammatory_cells\n",
    "    )\n",
    "\n",
    "    inflamm_froc = get_froc_vals(\n",
    "        gt_inf_cells,\n",
    "        result_detected_inflammatory_cells,\n",
    "        radius=int(7.5 / SPACING_LEVEL0),\n",
    "    )\n",
    "\n",
    "    inflamm_f1 = get_F1_scores(\n",
    "        gt_inf_cells,\n",
    "        result_detected_inflammatory_cells,\n",
    "        radius=int(7.5 / SPACING_LEVEL0),\n",
    "    )\n",
    "\n",
    "    # pprint(wsi_id)\n",
    "    # pprint(f\"FROC score: {inflamm_froc['froc_score_slide']}\")\n",
    "    sum_score += inflamm_froc[\"froc_score_slide\"]\n",
    "    sum_f1 += inflamm_f1[\"F1\"]\n",
    "\n",
    "pprint(f\"Average FROC = {sum_score / len(val_wsi_files)}\")\n",
    "pprint(f\"Average F1 = {sum_f1 / len(val_wsi_files)}\")"
   ]
  },
  {
   "cell_type": "code",
   "execution_count": 29,
   "metadata": {},
   "outputs": [
    {
     "name": "stdout",
     "output_type": "stream",
     "text": [
      "'FROC score: 0.20829616413916144'\n"
     ]
    }
   ],
   "source": [
    "file_id = \"A_P000001\"\n",
    "\n",
    "\n",
    "# gt_lymphocytes = open_json_file(\n",
    "#     json_path=os.path.join(\n",
    "#         GROUND_TRUTH_DIRECTORY, f\"{file_id}_lymphocytes.json\"\n",
    "#     )\n",
    "# )\n",
    "# gt_monocytes = open_json_file(\n",
    "#     json_path=os.path.join(\n",
    "#         GROUND_TRUTH_DIRECTORY, f\"{file_id}_monocytes.json\"\n",
    "#     )\n",
    "# )\n",
    "gt_inf_cells = open_json_file(\n",
    "    json_path=os.path.join(\n",
    "        GROUND_TRUTH_DIRECTORY, f\"{file_id}_inflammatory-cells.json\"\n",
    "    )\n",
    ")\n",
    "\n",
    "\n",
    "# location_detected_lymphocytes =\n",
    "# location_detected_monocytes =\n",
    "location_detected_inflammatory_cells = \"/home/u1910100/Documents/Monkey/local_output/detected-inflammatory-cells.json\"\n",
    "\n",
    "# result_detected_lymphocytes = open_json_file(\n",
    "#         location=location_detected_lymphocytes,\n",
    "#     )\n",
    "# result_detected_lymphocytes = convert_mm_to_pixel(\n",
    "# result_detected_lymphocytes\n",
    "# )\n",
    "\n",
    "# result_detected_monocytes = open_json_file(\n",
    "# location=location_detected_monocytes,\n",
    "# )\n",
    "# result_detected_monocytes = convert_mm_to_pixel(\n",
    "# result_detected_monocytes\n",
    "# )\n",
    "\n",
    "result_detected_inflammatory_cells = open_json_file(\n",
    "    json_path=location_detected_inflammatory_cells,\n",
    ")\n",
    "result_detected_inflammatory_cells = convert_mm_to_pixel(\n",
    "    result_detected_inflammatory_cells\n",
    ")\n",
    "\n",
    "# # compare the results to your ground truth and compute some metrics\n",
    "# lymphocytes_froc = get_froc_vals(\n",
    "#     gt_lymphocytes,\n",
    "#     result_detected_lymphocytes,\n",
    "#     radius=int(4 / SPACING_LEVEL0),\n",
    "# )  # margin for lymphocytes is 4um at spacing 0.25 um / pixel\n",
    "# monocytes_froc = get_froc_vals(\n",
    "#     gt_monocytes, result_detected_monocytes, radius=int(10 / 0.25)\n",
    "# )  # margin for monocytes is 10um at spacing 0.25 um / pixel\n",
    "inflamm_froc = get_froc_vals(\n",
    "    gt_inf_cells,\n",
    "    result_detected_inflammatory_cells,\n",
    "    radius=int(7.5 / SPACING_LEVEL0),\n",
    ")  # margin for inflammatory cells is 7.5um at spacing 0.24 um / pixel\n",
    "\n",
    "pprint(f\"FROC score: {inflamm_froc['froc_score_slide']}\")\n",
    "# pprint(f\"sensitivity_slide: {inflamm_froc['sensitivity_slide']}\")\n",
    "# pprint(f\"fp_per_mm2_slide: {inflamm_froc['fp_per_mm2_slide']}\")"
   ]
  },
  {
   "cell_type": "code",
   "execution_count": null,
   "metadata": {},
   "outputs": [],
   "source": []
  }
 ],
 "metadata": {
  "kernelspec": {
   "display_name": "tiatoolbox",
   "language": "python",
   "name": "python3"
  },
  "language_info": {
   "codemirror_mode": {
    "name": "ipython",
    "version": 3
   },
   "file_extension": ".py",
   "mimetype": "text/x-python",
   "name": "python",
   "nbconvert_exporter": "python",
   "pygments_lexer": "ipython3",
   "version": "3.11.5"
  }
 },
 "nbformat": 4,
 "nbformat_minor": 2
}
