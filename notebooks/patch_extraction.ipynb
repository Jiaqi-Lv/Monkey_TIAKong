{
 "cells": [
  {
   "cell_type": "markdown",
   "metadata": {},
   "source": [
    "Notebook for Extracting patches and annotations from Monkey Dataset"
   ]
  },
  {
   "cell_type": "code",
   "execution_count": null,
   "metadata": {},
   "outputs": [],
   "source": [
    "import sys\n",
    "\n",
    "sys.path.append(\"../\")\n",
    "from tiatoolbox.wsicore.wsireader import WSIReader, VirtualWSIReader\n",
    "from tiatoolbox.tools.patchextraction import get_patch_extractor\n",
    "import numpy as np\n",
    "import matplotlib.pyplot as plt\n",
    "import os\n",
    "import json\n",
    "import re\n",
    "import cv2\n",
    "import json\n",
    "from tqdm.autonotebook import tqdm\n",
    "from PIL import Image, ImageDraw"
   ]
  },
  {
   "cell_type": "code",
   "execution_count": null,
   "metadata": {},
   "outputs": [],
   "source": [
    "def extract_id(file_name: str):\n",
    "    \"\"\"\n",
    "    Give a file name such as 'A_P000001_PAS_CPG.tif',\n",
    "    Extract the ID: 'A_P000001'\n",
    "    \"\"\"\n",
    "    match = re.match(r\"([A-Z]_P\\d+)_\", file_name, re.IGNORECASE)\n",
    "\n",
    "    if match:\n",
    "        return match.group(1)\n",
    "    else:\n",
    "        return None\n",
    "\n",
    "\n",
    "def parse_json_annotations(json_path: str):\n",
    "    \"\"\"Extract annotations from json file\"\"\"\n",
    "    with open(json_path, \"r\") as f:\n",
    "        annotations = json.load(f)\n",
    "    return annotations\n",
    "\n",
    "\n",
    "def filter_points_with_bb(points_dict, bb):\n",
    "    selected_points = []\n",
    "    for item in points_dict:\n",
    "        point = item[\"point\"]\n",
    "        if (\n",
    "            bb[0] <= point[0]\n",
    "            and bb[1] <= point[1]\n",
    "            and bb[2] >= point[0]\n",
    "            and bb[3] >= point[1]\n",
    "        ):\n",
    "            selected_points.append(point)\n",
    "    return selected_points\n",
    "\n",
    "\n",
    "def scale_points(points_dict, scale_factor):\n",
    "    new_points_dict = []\n",
    "    for item in points_dict:\n",
    "        item[\"point\"][0] = int(item[\"point\"][0] / scale_factor)\n",
    "        item[\"point\"][1] = int(item[\"point\"][1] / scale_factor)\n",
    "        new_points_dict.append(item)\n",
    "    return new_points_dict\n",
    "\n",
    "\n",
    "def extract_rois_coords(annotation_rois: list[dict]):\n",
    "    polygons = []\n",
    "    for item in annotation_rois:\n",
    "        polygons.append(np.array(item[\"polygon\"], np.int32))\n",
    "    return polygons\n",
    "\n",
    "\n",
    "def mask_from_poly(\n",
    "    poly_coords, canvas_width, canvas_height, scale_factor\n",
    "):\n",
    "    canvas = np.zeros(\n",
    "        shape=(canvas_width, canvas_height), dtype=np.uint8\n",
    "    )\n",
    "    for i in range(len(poly_coords)):\n",
    "        poly_coords[i] = (poly_coords[i] // scale_factor).astype(\n",
    "            np.int32\n",
    "        )\n",
    "    cv2.fillPoly(canvas, poly_coords, 1)\n",
    "    return canvas\n",
    "\n",
    "\n",
    "def filter_coords_with_mask(xs, ys, binary_mask):\n",
    "    new_xs, new_ys = [], []\n",
    "    for i in range(len(xs)):\n",
    "        x = xs[i]\n",
    "        y = ys[i]\n",
    "        try:\n",
    "            if binary_mask[y, x] == 0:\n",
    "                continue\n",
    "            else:\n",
    "                new_xs.append(x)\n",
    "                new_ys.append(y)\n",
    "        except:\n",
    "            continue\n",
    "    return new_xs, new_ys\n",
    "\n",
    "\n",
    "def get_relative_coords(base_coords, bb, mask):\n",
    "    selected_points = filter_points_with_bb(base_coords, bb)\n",
    "    relative_x_coords = [\n",
    "        int(item[0] - bb[0]) for item in selected_points\n",
    "    ]\n",
    "    relative_y_coords = [\n",
    "        int(item[1] - bb[1]) for item in selected_points\n",
    "    ]\n",
    "\n",
    "    relative_x_coords, relative_y_coords = filter_coords_with_mask(\n",
    "        relative_x_coords, relative_y_coords, mask\n",
    "    )\n",
    "    return relative_x_coords, relative_y_coords\n",
    "\n",
    "\n",
    "def save_data(\n",
    "    file_name,\n",
    "    patch_image_dir,\n",
    "    cell_mask_dir,\n",
    "    json_dir,\n",
    "    patch_image,\n",
    "    bb,\n",
    "    lymphocyte_coords,\n",
    "    monocyte_coords,\n",
    "):\n",
    "    patch_name = f\"{file_name}_{bb[0]}_{bb[1]}_{bb[2]}_{bb[3]}.npy\"\n",
    "    patch_save_path = os.path.join(patch_image_dir, patch_name)\n",
    "    os.makedirs(patch_image_dir, exist_ok=True)\n",
    "    np.save(patch_save_path, patch_image)\n",
    "\n",
    "    cell_mask = np.zeros(\n",
    "        shape=(patch_image.shape[0], patch_image.shape[1]),\n",
    "        dtype=np.uint8,\n",
    "    )\n",
    "\n",
    "    for coord in lymphocyte_coords:\n",
    "        cell_mask[coord[1], coord[0]] = 1\n",
    "\n",
    "    for coord in monocyte_coords:\n",
    "        cell_mask[coord[1], coord[0]] = 2\n",
    "\n",
    "    cell_mask_save_name = (\n",
    "        f\"{file_name}_{bb[0]}_{bb[1]}_{bb[2]}_{bb[3]}.npy\"\n",
    "    )\n",
    "    cell_mask_save_path = os.path.join(\n",
    "        cell_mask_dir, cell_mask_save_name\n",
    "    )\n",
    "    os.makedirs(cell_mask_dir, exist_ok=True)\n",
    "    np.save(cell_mask_save_path, cell_mask)\n",
    "\n",
    "    annotations = {\n",
    "        \"lymphocytes\": lymphocyte_coords,\n",
    "        \"monocytes\": monocyte_coords,\n",
    "    }\n",
    "\n",
    "    json_save_name = (\n",
    "        f\"{file_name}_{bb[0]}_{bb[1]}_{bb[2]}_{bb[3]}.json\"\n",
    "    )\n",
    "    json_save_path = os.path.join(json_dir, json_save_name)\n",
    "    os.makedirs(json_dir, exist_ok=True)\n",
    "    with open(json_save_path, \"w\") as file:\n",
    "        json.dump(annotations, file)\n",
    "\n",
    "\n",
    "def mask_from_rois(rois: list, canvas_shape: tuple[int, int]):\n",
    "\n",
    "    polygons_coord = []\n",
    "    for roi in rois:\n",
    "        poly = np.array(roi[\"polygon\"])\n",
    "        poly = np.round(poly / 32)\n",
    "        poly = poly.astype(int)\n",
    "        polygons_coord.append(poly)\n",
    "\n",
    "    mask = np.zeros(\n",
    "        shape=(canvas_shape[1], canvas_shape[0]), dtype=np.uint8\n",
    "    )\n",
    "\n",
    "    # for polygon in polygons_coord:\n",
    "    mask = cv2.fillPoly(mask, polygons_coord, color=1)\n",
    "    mask = np.array(mask, dtype=np.uint8)\n",
    "    return mask"
   ]
  },
  {
   "cell_type": "code",
   "execution_count": 7,
   "metadata": {},
   "outputs": [
    {
     "name": "stderr",
     "output_type": "stream",
     "text": [
      "  0%|          | 0/81 [00:00<?, ?it/s]|2024-12-02|14:20:08.359| [WARNING] Metadata: Falling back to TIFF resolution tag for microns-per-pixel (MPP).\n",
      "|2024-12-02|14:20:08.360| [WARNING] Metadata: Objective power inferred from microns-per-pixel (MPP).\n"
     ]
    },
    {
     "name": "stdout",
     "output_type": "stream",
     "text": [
      "A_P000021\n"
     ]
    },
    {
     "name": "stderr",
     "output_type": "stream",
     "text": [
      "|2024-12-02|14:20:08.714| [WARNING] Raw data is None.\n",
      "|2024-12-02|14:20:08.715| [WARNING] Unknown scale (no objective_power or mpp)\n"
     ]
    },
    {
     "name": "stdout",
     "output_type": "stream",
     "text": [
      "{'objective_power': 1.25, 'slide_dimensions': (2784, 4288), 'level_count': 1, 'level_dimensions': ((2784, 4288),), 'level_downsamples': [1.0], 'vendor': 'None', 'mpp': (8, 8), 'file_path': None, 'axes': 'YSX'}\n"
     ]
    },
    {
     "name": "stderr",
     "output_type": "stream",
     "text": [
      "  1%|          | 1/81 [00:00<01:19,  1.01it/s]|2024-12-02|14:20:09.356| [WARNING] Metadata: Falling back to TIFF resolution tag for microns-per-pixel (MPP).\n",
      "|2024-12-02|14:20:09.357| [WARNING] Metadata: Objective power inferred from microns-per-pixel (MPP).\n"
     ]
    },
    {
     "name": "stdout",
     "output_type": "stream",
     "text": [
      "B_P000012\n"
     ]
    },
    {
     "name": "stderr",
     "output_type": "stream",
     "text": [
      "|2024-12-02|14:20:09.594| [WARNING] Raw data is None.\n",
      "|2024-12-02|14:20:09.594| [WARNING] Unknown scale (no objective_power or mpp)\n"
     ]
    },
    {
     "name": "stdout",
     "output_type": "stream",
     "text": [
      "{'objective_power': 1.25, 'slide_dimensions': (2352, 3448), 'level_count': 1, 'level_dimensions': ((2352, 3448),), 'level_downsamples': [1.0], 'vendor': 'None', 'mpp': (8, 8), 'file_path': None, 'axes': 'YSX'}\n"
     ]
    },
    {
     "name": "stderr",
     "output_type": "stream",
     "text": [
      "  2%|▏         | 2/81 [00:01<01:11,  1.10it/s]|2024-12-02|14:20:10.198| [WARNING] Metadata: Falling back to TIFF resolution tag for microns-per-pixel (MPP).\n",
      "|2024-12-02|14:20:10.198| [WARNING] Metadata: Objective power inferred from microns-per-pixel (MPP).\n",
      "|2024-12-02|14:20:10.270| [WARNING] Raw data is None.\n",
      "|2024-12-02|14:20:10.270| [WARNING] Unknown scale (no objective_power or mpp)\n"
     ]
    },
    {
     "name": "stdout",
     "output_type": "stream",
     "text": [
      "D_P000005\n",
      "{'objective_power': 1.25, 'slide_dimensions': (1400, 1824), 'level_count': 1, 'level_dimensions': ((1400, 1824),), 'level_downsamples': [1.0], 'vendor': 'None', 'mpp': (8, 8), 'file_path': None, 'axes': 'YSX'}\n"
     ]
    },
    {
     "name": "stderr",
     "output_type": "stream",
     "text": [
      "  4%|▎         | 3/81 [00:02<01:01,  1.26it/s]|2024-12-02|14:20:10.859| [WARNING] Metadata: Falling back to TIFF resolution tag for microns-per-pixel (MPP).\n",
      "|2024-12-02|14:20:10.859| [WARNING] Metadata: Objective power inferred from microns-per-pixel (MPP).\n"
     ]
    },
    {
     "name": "stdout",
     "output_type": "stream",
     "text": [
      "A_P000030\n"
     ]
    },
    {
     "name": "stderr",
     "output_type": "stream",
     "text": [
      "|2024-12-02|14:20:11.248| [WARNING] Raw data is None.\n",
      "|2024-12-02|14:20:11.249| [WARNING] Unknown scale (no objective_power or mpp)\n"
     ]
    },
    {
     "name": "stdout",
     "output_type": "stream",
     "text": [
      "{'objective_power': 1.25, 'slide_dimensions': (2696, 4744), 'level_count': 1, 'level_dimensions': ((2696, 4744),), 'level_downsamples': [1.0], 'vendor': 'None', 'mpp': (8, 8), 'file_path': None, 'axes': 'YSX'}\n"
     ]
    },
    {
     "name": "stderr",
     "output_type": "stream",
     "text": [
      "  5%|▍         | 4/81 [00:03<01:04,  1.19it/s]|2024-12-02|14:20:11.772| [WARNING] Metadata: Falling back to TIFF resolution tag for microns-per-pixel (MPP).\n",
      "|2024-12-02|14:20:11.772| [WARNING] Metadata: Objective power inferred from microns-per-pixel (MPP).\n"
     ]
    },
    {
     "name": "stdout",
     "output_type": "stream",
     "text": [
      "B_P000003\n"
     ]
    },
    {
     "name": "stderr",
     "output_type": "stream",
     "text": [
      "|2024-12-02|14:20:12.032| [WARNING] Raw data is None.\n",
      "|2024-12-02|14:20:12.032| [WARNING] Unknown scale (no objective_power or mpp)\n"
     ]
    },
    {
     "name": "stdout",
     "output_type": "stream",
     "text": [
      "{'objective_power': 1.25, 'slide_dimensions': (2344, 3648), 'level_count': 1, 'level_dimensions': ((2344, 3648),), 'level_downsamples': [1.0], 'vendor': 'None', 'mpp': (8, 8), 'file_path': None, 'axes': 'YSX'}\n"
     ]
    },
    {
     "name": "stderr",
     "output_type": "stream",
     "text": [
      "  6%|▌         | 5/81 [00:04<00:59,  1.27it/s]|2024-12-02|14:20:12.458| [WARNING] Metadata: Falling back to TIFF resolution tag for microns-per-pixel (MPP).\n",
      "|2024-12-02|14:20:12.459| [WARNING] Metadata: Objective power inferred from microns-per-pixel (MPP).\n"
     ]
    },
    {
     "name": "stdout",
     "output_type": "stream",
     "text": [
      "B_P000002\n"
     ]
    },
    {
     "name": "stderr",
     "output_type": "stream",
     "text": [
      "|2024-12-02|14:20:12.703| [WARNING] Raw data is None.\n",
      "|2024-12-02|14:20:12.703| [WARNING] Unknown scale (no objective_power or mpp)\n"
     ]
    },
    {
     "name": "stdout",
     "output_type": "stream",
     "text": [
      "{'objective_power': 1.25, 'slide_dimensions': (2176, 4360), 'level_count': 1, 'level_dimensions': ((2176, 4360),), 'level_downsamples': [1.0], 'vendor': 'None', 'mpp': (8, 8), 'file_path': None, 'axes': 'YSX'}\n"
     ]
    },
    {
     "name": "stderr",
     "output_type": "stream",
     "text": [
      "  7%|▋         | 6/81 [00:04<00:55,  1.35it/s]|2024-12-02|14:20:13.114| [WARNING] Metadata: Falling back to TIFF resolution tag for microns-per-pixel (MPP).\n",
      "|2024-12-02|14:20:13.114| [WARNING] Metadata: Objective power inferred from microns-per-pixel (MPP).\n",
      "|2024-12-02|14:20:13.271| [WARNING] Raw data is None.\n",
      "|2024-12-02|14:20:13.272| [WARNING] Unknown scale (no objective_power or mpp)\n"
     ]
    },
    {
     "name": "stdout",
     "output_type": "stream",
     "text": [
      "C_P000032\n",
      "{'objective_power': 1.25, 'slide_dimensions': (1320, 4424), 'level_count': 1, 'level_dimensions': ((1320, 4424),), 'level_downsamples': [1.0], 'vendor': 'None', 'mpp': (8, 8), 'file_path': None, 'axes': 'YSX'}\n"
     ]
    },
    {
     "name": "stderr",
     "output_type": "stream",
     "text": [
      "  9%|▊         | 7/81 [00:05<00:53,  1.38it/s]|2024-12-02|14:20:13.808| [WARNING] Metadata: Falling back to TIFF resolution tag for microns-per-pixel (MPP).\n",
      "|2024-12-02|14:20:13.809| [WARNING] Metadata: Objective power inferred from microns-per-pixel (MPP).\n",
      "|2024-12-02|14:20:13.933| [WARNING] Raw data is None.\n",
      "|2024-12-02|14:20:13.934| [WARNING] Unknown scale (no objective_power or mpp)\n"
     ]
    },
    {
     "name": "stdout",
     "output_type": "stream",
     "text": [
      "D_P000006\n",
      "{'objective_power': 1.25, 'slide_dimensions': (1920, 2352), 'level_count': 1, 'level_dimensions': ((1920, 2352),), 'level_downsamples': [1.0], 'vendor': 'None', 'mpp': (8, 8), 'file_path': None, 'axes': 'YSX'}\n"
     ]
    },
    {
     "name": "stderr",
     "output_type": "stream",
     "text": [
      " 10%|▉         | 8/81 [00:06<01:01,  1.18it/s]|2024-12-02|14:20:14.909| [WARNING] Metadata: Falling back to TIFF resolution tag for microns-per-pixel (MPP).\n",
      "|2024-12-02|14:20:14.909| [WARNING] Metadata: Objective power inferred from microns-per-pixel (MPP).\n"
     ]
    },
    {
     "name": "stdout",
     "output_type": "stream",
     "text": [
      "C_P000023\n"
     ]
    },
    {
     "name": "stderr",
     "output_type": "stream",
     "text": [
      "|2024-12-02|14:20:15.229| [WARNING] Raw data is None.\n",
      "|2024-12-02|14:20:15.229| [WARNING] Unknown scale (no objective_power or mpp)\n"
     ]
    },
    {
     "name": "stdout",
     "output_type": "stream",
     "text": [
      "{'objective_power': 1.25, 'slide_dimensions': (2176, 4936), 'level_count': 1, 'level_dimensions': ((2176, 4936),), 'level_downsamples': [1.0], 'vendor': 'None', 'mpp': (8, 8), 'file_path': None, 'axes': 'YSX'}\n"
     ]
    },
    {
     "name": "stderr",
     "output_type": "stream",
     "text": [
      " 11%|█         | 9/81 [00:07<01:00,  1.19it/s]|2024-12-02|14:20:15.740| [WARNING] Metadata: Falling back to TIFF resolution tag for microns-per-pixel (MPP).\n",
      "|2024-12-02|14:20:15.741| [WARNING] Metadata: Objective power inferred from microns-per-pixel (MPP).\n"
     ]
    },
    {
     "name": "stdout",
     "output_type": "stream",
     "text": [
      "A_P000004\n"
     ]
    },
    {
     "name": "stderr",
     "output_type": "stream",
     "text": [
      "|2024-12-02|14:20:16.077| [WARNING] Raw data is None.\n",
      "|2024-12-02|14:20:16.078| [WARNING] Unknown scale (no objective_power or mpp)\n"
     ]
    },
    {
     "name": "stdout",
     "output_type": "stream",
     "text": [
      "{'objective_power': 1.25, 'slide_dimensions': (3056, 3968), 'level_count': 1, 'level_dimensions': ((3056, 3968),), 'level_downsamples': [1.0], 'vendor': 'None', 'mpp': (8, 8), 'file_path': None, 'axes': 'YSX'}\n"
     ]
    },
    {
     "name": "stderr",
     "output_type": "stream",
     "text": [
      " 12%|█▏        | 10/81 [00:08<01:16,  1.07s/it]|2024-12-02|14:20:17.331| [WARNING] Metadata: Falling back to TIFF resolution tag for microns-per-pixel (MPP).\n",
      "|2024-12-02|14:20:17.332| [WARNING] Metadata: Objective power inferred from microns-per-pixel (MPP).\n",
      "|2024-12-02|14:20:17.450| [WARNING] Raw data is None.\n",
      "|2024-12-02|14:20:17.451| [WARNING] Unknown scale (no objective_power or mpp)\n"
     ]
    },
    {
     "name": "stdout",
     "output_type": "stream",
     "text": [
      "C_P000031\n",
      "{'objective_power': 1.25, 'slide_dimensions': (1136, 4040), 'level_count': 1, 'level_dimensions': ((1136, 4040),), 'level_downsamples': [1.0], 'vendor': 'None', 'mpp': (8, 8), 'file_path': None, 'axes': 'YSX'}\n"
     ]
    },
    {
     "name": "stderr",
     "output_type": "stream",
     "text": [
      " 14%|█▎        | 11/81 [00:09<01:00,  1.16it/s]|2024-12-02|14:20:17.719| [WARNING] Metadata: Falling back to TIFF resolution tag for microns-per-pixel (MPP).\n",
      "|2024-12-02|14:20:17.720| [WARNING] Metadata: Objective power inferred from microns-per-pixel (MPP).\n",
      "|2024-12-02|14:20:17.879| [WARNING] Raw data is None.\n",
      "|2024-12-02|14:20:17.879| [WARNING] Unknown scale (no objective_power or mpp)\n"
     ]
    },
    {
     "name": "stdout",
     "output_type": "stream",
     "text": [
      "A_P000011\n",
      "{'objective_power': 1.25, 'slide_dimensions': (2704, 2152), 'level_count': 1, 'level_dimensions': ((2704, 2152),), 'level_downsamples': [1.0], 'vendor': 'None', 'mpp': (8, 8), 'file_path': None, 'axes': 'YSX'}\n"
     ]
    },
    {
     "name": "stderr",
     "output_type": "stream",
     "text": [
      " 15%|█▍        | 12/81 [00:09<00:51,  1.35it/s]|2024-12-02|14:20:18.190| [WARNING] Metadata: Falling back to TIFF resolution tag for microns-per-pixel (MPP).\n",
      "|2024-12-02|14:20:18.191| [WARNING] Metadata: Objective power inferred from microns-per-pixel (MPP).\n"
     ]
    },
    {
     "name": "stdout",
     "output_type": "stream",
     "text": [
      "B_P000017\n"
     ]
    },
    {
     "name": "stderr",
     "output_type": "stream",
     "text": [
      "|2024-12-02|14:20:18.465| [WARNING] Raw data is None.\n",
      "|2024-12-02|14:20:18.466| [WARNING] Unknown scale (no objective_power or mpp)\n"
     ]
    },
    {
     "name": "stdout",
     "output_type": "stream",
     "text": [
      "{'objective_power': 1.25, 'slide_dimensions': (2008, 4544), 'level_count': 1, 'level_dimensions': ((2008, 4544),), 'level_downsamples': [1.0], 'vendor': 'None', 'mpp': (8, 8), 'file_path': None, 'axes': 'YSX'}\n"
     ]
    },
    {
     "name": "stderr",
     "output_type": "stream",
     "text": [
      " 16%|█▌        | 13/81 [00:10<00:49,  1.38it/s]|2024-12-02|14:20:18.863| [WARNING] Metadata: Falling back to TIFF resolution tag for microns-per-pixel (MPP).\n",
      "|2024-12-02|14:20:18.864| [WARNING] Metadata: Objective power inferred from microns-per-pixel (MPP).\n",
      "|2024-12-02|14:20:18.939| [WARNING] Raw data is None.\n",
      "|2024-12-02|14:20:18.939| [WARNING] Unknown scale (no objective_power or mpp)\n"
     ]
    },
    {
     "name": "stdout",
     "output_type": "stream",
     "text": [
      "D_P000011\n",
      "{'objective_power': 1.25, 'slide_dimensions': (1400, 2016), 'level_count': 1, 'level_dimensions': ((1400, 2016),), 'level_downsamples': [1.0], 'vendor': 'None', 'mpp': (8, 8), 'file_path': None, 'axes': 'YSX'}\n"
     ]
    },
    {
     "name": "stderr",
     "output_type": "stream",
     "text": [
      " 17%|█▋        | 14/81 [00:11<00:46,  1.44it/s]|2024-12-02|14:20:19.486| [WARNING] Metadata: Falling back to TIFF resolution tag for microns-per-pixel (MPP).\n",
      "|2024-12-02|14:20:19.486| [WARNING] Metadata: Objective power inferred from microns-per-pixel (MPP).\n",
      "|2024-12-02|14:20:19.666| [WARNING] Raw data is None.\n",
      "|2024-12-02|14:20:19.667| [WARNING] Unknown scale (no objective_power or mpp)\n"
     ]
    },
    {
     "name": "stdout",
     "output_type": "stream",
     "text": [
      "C_P000024\n",
      "{'objective_power': 1.25, 'slide_dimensions': (1488, 4552), 'level_count': 1, 'level_dimensions': ((1488, 4552),), 'level_downsamples': [1.0], 'vendor': 'None', 'mpp': (8, 8), 'file_path': None, 'axes': 'YSX'}\n"
     ]
    },
    {
     "name": "stderr",
     "output_type": "stream",
     "text": [
      " 19%|█▊        | 15/81 [00:12<00:55,  1.19it/s]|2024-12-02|14:20:20.659| [WARNING] Metadata: Falling back to TIFF resolution tag for microns-per-pixel (MPP).\n",
      "|2024-12-02|14:20:20.660| [WARNING] Metadata: Objective power inferred from microns-per-pixel (MPP).\n",
      "|2024-12-02|14:20:20.757| [WARNING] Raw data is None.\n",
      "|2024-12-02|14:20:20.757| [WARNING] Unknown scale (no objective_power or mpp)\n"
     ]
    },
    {
     "name": "stdout",
     "output_type": "stream",
     "text": [
      "D_P000017\n",
      "{'objective_power': 1.25, 'slide_dimensions': (1392, 2664), 'level_count': 1, 'level_dimensions': ((1392, 2664),), 'level_downsamples': [1.0], 'vendor': 'None', 'mpp': (8, 8), 'file_path': None, 'axes': 'YSX'}\n"
     ]
    },
    {
     "name": "stderr",
     "output_type": "stream",
     "text": [
      " 20%|█▉        | 16/81 [00:12<00:44,  1.45it/s]|2024-12-02|14:20:21.012| [WARNING] Metadata: Falling back to TIFF resolution tag for microns-per-pixel (MPP).\n",
      "|2024-12-02|14:20:21.013| [WARNING] Metadata: Objective power inferred from microns-per-pixel (MPP).\n",
      "|2024-12-02|14:20:21.182| [WARNING] Raw data is None.\n",
      "|2024-12-02|14:20:21.182| [WARNING] Unknown scale (no objective_power or mpp)\n"
     ]
    },
    {
     "name": "stdout",
     "output_type": "stream",
     "text": [
      "B_P000016\n",
      "{'objective_power': 1.25, 'slide_dimensions': (1840, 3320), 'level_count': 1, 'level_dimensions': ((1840, 3320),), 'level_downsamples': [1.0], 'vendor': 'None', 'mpp': (8, 8), 'file_path': None, 'axes': 'YSX'}\n"
     ]
    },
    {
     "name": "stderr",
     "output_type": "stream",
     "text": [
      " 21%|██        | 17/81 [00:13<00:38,  1.66it/s]|2024-12-02|14:20:21.409| [WARNING] Metadata: Falling back to TIFF resolution tag for microns-per-pixel (MPP).\n",
      "|2024-12-02|14:20:21.410| [WARNING] Metadata: Objective power inferred from microns-per-pixel (MPP).\n"
     ]
    },
    {
     "name": "stdout",
     "output_type": "stream",
     "text": [
      "A_P000002\n"
     ]
    },
    {
     "name": "stderr",
     "output_type": "stream",
     "text": [
      "|2024-12-02|14:20:21.661| [WARNING] Raw data is None.\n",
      "|2024-12-02|14:20:21.661| [WARNING] Unknown scale (no objective_power or mpp)\n"
     ]
    },
    {
     "name": "stdout",
     "output_type": "stream",
     "text": [
      "{'objective_power': 1.25, 'slide_dimensions': (3048, 2800), 'level_count': 1, 'level_dimensions': ((3048, 2800),), 'level_downsamples': [1.0], 'vendor': 'None', 'mpp': (8, 8), 'file_path': None, 'axes': 'YSX'}\n"
     ]
    },
    {
     "name": "stderr",
     "output_type": "stream",
     "text": [
      " 22%|██▏       | 18/81 [00:14<00:50,  1.24it/s]|2024-12-02|14:20:22.699| [WARNING] Metadata: Falling back to TIFF resolution tag for microns-per-pixel (MPP).\n",
      "|2024-12-02|14:20:22.699| [WARNING] Metadata: Objective power inferred from microns-per-pixel (MPP).\n"
     ]
    },
    {
     "name": "stdout",
     "output_type": "stream",
     "text": [
      "A_P000031\n"
     ]
    },
    {
     "name": "stderr",
     "output_type": "stream",
     "text": [
      "|2024-12-02|14:20:23.092| [WARNING] Raw data is None.\n",
      "|2024-12-02|14:20:23.093| [WARNING] Unknown scale (no objective_power or mpp)\n"
     ]
    },
    {
     "name": "stdout",
     "output_type": "stream",
     "text": [
      "{'objective_power': 1.25, 'slide_dimensions': (2960, 4744), 'level_count': 1, 'level_dimensions': ((2960, 4744),), 'level_downsamples': [1.0], 'vendor': 'None', 'mpp': (8, 8), 'file_path': None, 'axes': 'YSX'}\n"
     ]
    },
    {
     "name": "stderr",
     "output_type": "stream",
     "text": [
      " 23%|██▎       | 19/81 [00:15<00:54,  1.15it/s]|2024-12-02|14:20:23.720| [WARNING] Metadata: Falling back to TIFF resolution tag for microns-per-pixel (MPP).\n",
      "|2024-12-02|14:20:23.720| [WARNING] Metadata: Objective power inferred from microns-per-pixel (MPP).\n"
     ]
    },
    {
     "name": "stdout",
     "output_type": "stream",
     "text": [
      "A_P000037\n"
     ]
    },
    {
     "name": "stderr",
     "output_type": "stream",
     "text": [
      "|2024-12-02|14:20:24.121| [WARNING] Raw data is None.\n",
      "|2024-12-02|14:20:24.121| [WARNING] Unknown scale (no objective_power or mpp)\n"
     ]
    },
    {
     "name": "stdout",
     "output_type": "stream",
     "text": [
      "{'objective_power': 1.25, 'slide_dimensions': (2872, 4872), 'level_count': 1, 'level_dimensions': ((2872, 4872),), 'level_downsamples': [1.0], 'vendor': 'None', 'mpp': (8, 8), 'file_path': None, 'axes': 'YSX'}\n"
     ]
    },
    {
     "name": "stderr",
     "output_type": "stream",
     "text": [
      " 25%|██▍       | 20/81 [00:16<01:01,  1.00s/it]|2024-12-02|14:20:25.021| [WARNING] Metadata: Falling back to TIFF resolution tag for microns-per-pixel (MPP).\n",
      "|2024-12-02|14:20:25.022| [WARNING] Metadata: Objective power inferred from microns-per-pixel (MPP).\n"
     ]
    },
    {
     "name": "stdout",
     "output_type": "stream",
     "text": [
      "B_P000011\n"
     ]
    },
    {
     "name": "stderr",
     "output_type": "stream",
     "text": [
      "|2024-12-02|14:20:25.300| [WARNING] Raw data is None.\n",
      "|2024-12-02|14:20:25.300| [WARNING] Unknown scale (no objective_power or mpp)\n"
     ]
    },
    {
     "name": "stdout",
     "output_type": "stream",
     "text": [
      "{'objective_power': 1.25, 'slide_dimensions': (2016, 4616), 'level_count': 1, 'level_dimensions': ((2016, 4616),), 'level_downsamples': [1.0], 'vendor': 'None', 'mpp': (8, 8), 'file_path': None, 'axes': 'YSX'}\n"
     ]
    },
    {
     "name": "stderr",
     "output_type": "stream",
     "text": [
      " 26%|██▌       | 21/81 [00:17<00:53,  1.13it/s]|2024-12-02|14:20:25.641| [WARNING] Metadata: Falling back to TIFF resolution tag for microns-per-pixel (MPP).\n",
      "|2024-12-02|14:20:25.641| [WARNING] Metadata: Objective power inferred from microns-per-pixel (MPP).\n",
      "|2024-12-02|14:20:25.751| [WARNING] Raw data is None.\n",
      "|2024-12-02|14:20:25.752| [WARNING] Unknown scale (no objective_power or mpp)\n"
     ]
    },
    {
     "name": "stdout",
     "output_type": "stream",
     "text": [
      "D_P000002\n",
      "{'objective_power': 1.25, 'slide_dimensions': (1744, 2408), 'level_count': 1, 'level_dimensions': ((1744, 2408),), 'level_downsamples': [1.0], 'vendor': 'None', 'mpp': (8, 8), 'file_path': None, 'axes': 'YSX'}\n"
     ]
    },
    {
     "name": "stderr",
     "output_type": "stream",
     "text": [
      " 27%|██▋       | 22/81 [00:17<00:46,  1.28it/s]|2024-12-02|14:20:26.169| [WARNING] Metadata: Falling back to TIFF resolution tag for microns-per-pixel (MPP).\n",
      "|2024-12-02|14:20:26.170| [WARNING] Metadata: Objective power inferred from microns-per-pixel (MPP).\n"
     ]
    },
    {
     "name": "stdout",
     "output_type": "stream",
     "text": [
      "A_P000017\n"
     ]
    },
    {
     "name": "stderr",
     "output_type": "stream",
     "text": [
      "|2024-12-02|14:20:26.536| [WARNING] Raw data is None.\n",
      "|2024-12-02|14:20:26.536| [WARNING] Unknown scale (no objective_power or mpp)\n"
     ]
    },
    {
     "name": "stdout",
     "output_type": "stream",
     "text": [
      "{'objective_power': 1.25, 'slide_dimensions': (2960, 4032), 'level_count': 1, 'level_dimensions': ((2960, 4032),), 'level_downsamples': [1.0], 'vendor': 'None', 'mpp': (8, 8), 'file_path': None, 'axes': 'YSX'}\n"
     ]
    },
    {
     "name": "stderr",
     "output_type": "stream",
     "text": [
      " 28%|██▊       | 23/81 [00:18<00:49,  1.16it/s]|2024-12-02|14:20:27.215| [WARNING] Metadata: Falling back to TIFF resolution tag for microns-per-pixel (MPP).\n",
      "|2024-12-02|14:20:27.215| [WARNING] Metadata: Objective power inferred from microns-per-pixel (MPP).\n",
      "|2024-12-02|14:20:27.356| [WARNING] Raw data is None.\n",
      "|2024-12-02|14:20:27.356| [WARNING] Unknown scale (no objective_power or mpp)\n"
     ]
    },
    {
     "name": "stdout",
     "output_type": "stream",
     "text": [
      "C_P000033\n",
      "{'objective_power': 1.25, 'slide_dimensions': (1144, 4296), 'level_count': 1, 'level_dimensions': ((1144, 4296),), 'level_downsamples': [1.0], 'vendor': 'None', 'mpp': (8, 8), 'file_path': None, 'axes': 'YSX'}\n"
     ]
    },
    {
     "name": "stderr",
     "output_type": "stream",
     "text": [
      " 30%|██▉       | 24/81 [00:19<00:39,  1.44it/s]|2024-12-02|14:20:27.526| [WARNING] Metadata: Falling back to TIFF resolution tag for microns-per-pixel (MPP).\n",
      "|2024-12-02|14:20:27.526| [WARNING] Metadata: Objective power inferred from microns-per-pixel (MPP).\n"
     ]
    },
    {
     "name": "stdout",
     "output_type": "stream",
     "text": [
      "A_P000038\n"
     ]
    },
    {
     "name": "stderr",
     "output_type": "stream",
     "text": [
      "|2024-12-02|14:20:27.999| [WARNING] Raw data is None.\n",
      "|2024-12-02|14:20:28.000| [WARNING] Unknown scale (no objective_power or mpp)\n"
     ]
    },
    {
     "name": "stdout",
     "output_type": "stream",
     "text": [
      "{'objective_power': 1.25, 'slide_dimensions': (2696, 5776), 'level_count': 1, 'level_dimensions': ((2696, 5776),), 'level_downsamples': [1.0], 'vendor': 'None', 'mpp': (8, 8), 'file_path': None, 'axes': 'YSX'}\n"
     ]
    },
    {
     "name": "stderr",
     "output_type": "stream",
     "text": [
      " 31%|███       | 25/81 [00:21<01:00,  1.09s/it]|2024-12-02|14:20:29.530| [WARNING] Metadata: Falling back to TIFF resolution tag for microns-per-pixel (MPP).\n",
      "|2024-12-02|14:20:29.531| [WARNING] Metadata: Objective power inferred from microns-per-pixel (MPP).\n"
     ]
    },
    {
     "name": "stdout",
     "output_type": "stream",
     "text": [
      "A_P000001\n"
     ]
    },
    {
     "name": "stderr",
     "output_type": "stream",
     "text": [
      "|2024-12-02|14:20:29.810| [WARNING] Raw data is None.\n",
      "|2024-12-02|14:20:29.810| [WARNING] Unknown scale (no objective_power or mpp)\n"
     ]
    },
    {
     "name": "stdout",
     "output_type": "stream",
     "text": [
      "{'objective_power': 1.25, 'slide_dimensions': (3048, 2992), 'level_count': 1, 'level_dimensions': ((3048, 2992),), 'level_downsamples': [1.0], 'vendor': 'None', 'mpp': (8, 8), 'file_path': None, 'axes': 'YSX'}\n"
     ]
    },
    {
     "name": "stderr",
     "output_type": "stream",
     "text": [
      " 32%|███▏      | 26/81 [00:21<00:55,  1.01s/it]|2024-12-02|14:20:30.352| [WARNING] Metadata: Falling back to TIFF resolution tag for microns-per-pixel (MPP).\n",
      "|2024-12-02|14:20:30.353| [WARNING] Metadata: Objective power inferred from microns-per-pixel (MPP).\n"
     ]
    },
    {
     "name": "stdout",
     "output_type": "stream",
     "text": [
      "B_P000007\n"
     ]
    },
    {
     "name": "stderr",
     "output_type": "stream",
     "text": [
      "|2024-12-02|14:20:30.648| [WARNING] Raw data is None.\n",
      "|2024-12-02|14:20:30.649| [WARNING] Unknown scale (no objective_power or mpp)\n"
     ]
    },
    {
     "name": "stdout",
     "output_type": "stream",
     "text": [
      "{'objective_power': 1.25, 'slide_dimensions': (2600, 4160), 'level_count': 1, 'level_dimensions': ((2600, 4160),), 'level_downsamples': [1.0], 'vendor': 'None', 'mpp': (8, 8), 'file_path': None, 'axes': 'YSX'}\n"
     ]
    },
    {
     "name": "stderr",
     "output_type": "stream",
     "text": [
      " 33%|███▎      | 27/81 [00:22<00:49,  1.09it/s]|2024-12-02|14:20:31.050| [WARNING] Metadata: Falling back to TIFF resolution tag for microns-per-pixel (MPP).\n",
      "|2024-12-02|14:20:31.050| [WARNING] Metadata: Objective power inferred from microns-per-pixel (MPP).\n"
     ]
    },
    {
     "name": "stdout",
     "output_type": "stream",
     "text": [
      "A_P000034\n"
     ]
    },
    {
     "name": "stderr",
     "output_type": "stream",
     "text": [
      "|2024-12-02|14:20:31.644| [WARNING] Raw data is None.\n",
      "|2024-12-02|14:20:31.645| [WARNING] Unknown scale (no objective_power or mpp)\n"
     ]
    },
    {
     "name": "stdout",
     "output_type": "stream",
     "text": [
      "{'objective_power': 1.25, 'slide_dimensions': (2784, 5576), 'level_count': 1, 'level_dimensions': ((2784, 5576),), 'level_downsamples': [1.0], 'vendor': 'None', 'mpp': (8, 8), 'file_path': None, 'axes': 'YSX'}\n"
     ]
    },
    {
     "name": "stderr",
     "output_type": "stream",
     "text": [
      " 35%|███▍      | 28/81 [00:24<00:59,  1.12s/it]|2024-12-02|14:20:32.630| [WARNING] Metadata: Falling back to TIFF resolution tag for microns-per-pixel (MPP).\n",
      "|2024-12-02|14:20:32.630| [WARNING] Metadata: Objective power inferred from microns-per-pixel (MPP).\n",
      "|2024-12-02|14:20:32.775| [WARNING] Raw data is None.\n",
      "|2024-12-02|14:20:32.776| [WARNING] Unknown scale (no objective_power or mpp)\n"
     ]
    },
    {
     "name": "stdout",
     "output_type": "stream",
     "text": [
      "C_P000026\n",
      "{'objective_power': 1.25, 'slide_dimensions': (1136, 4552), 'level_count': 1, 'level_dimensions': ((1136, 4552),), 'level_downsamples': [1.0], 'vendor': 'None', 'mpp': (8, 8), 'file_path': None, 'axes': 'YSX'}\n"
     ]
    },
    {
     "name": "stderr",
     "output_type": "stream",
     "text": [
      " 36%|███▌      | 29/81 [00:24<00:50,  1.03it/s]|2024-12-02|14:20:33.283| [WARNING] Metadata: Falling back to TIFF resolution tag for microns-per-pixel (MPP).\n",
      "|2024-12-02|14:20:33.283| [WARNING] Metadata: Objective power inferred from microns-per-pixel (MPP).\n"
     ]
    },
    {
     "name": "stdout",
     "output_type": "stream",
     "text": [
      "A_P000035\n"
     ]
    },
    {
     "name": "stderr",
     "output_type": "stream",
     "text": [
      "|2024-12-02|14:20:33.706| [WARNING] Raw data is None.\n",
      "|2024-12-02|14:20:33.707| [WARNING] Unknown scale (no objective_power or mpp)\n"
     ]
    },
    {
     "name": "stdout",
     "output_type": "stream",
     "text": [
      "{'objective_power': 1.25, 'slide_dimensions': (2784, 4936), 'level_count': 1, 'level_dimensions': ((2784, 4936),), 'level_downsamples': [1.0], 'vendor': 'None', 'mpp': (8, 8), 'file_path': None, 'axes': 'YSX'}\n"
     ]
    },
    {
     "name": "stderr",
     "output_type": "stream",
     "text": [
      " 37%|███▋      | 30/81 [00:26<00:51,  1.02s/it]|2024-12-02|14:20:34.390| [WARNING] Metadata: Falling back to TIFF resolution tag for microns-per-pixel (MPP).\n",
      "|2024-12-02|14:20:34.391| [WARNING] Metadata: Objective power inferred from microns-per-pixel (MPP).\n",
      "|2024-12-02|14:20:34.493| [WARNING] Raw data is None.\n",
      "|2024-12-02|14:20:34.493| [WARNING] Unknown scale (no objective_power or mpp)\n"
     ]
    },
    {
     "name": "stdout",
     "output_type": "stream",
     "text": [
      "D_P000014\n",
      "{'objective_power': 1.25, 'slide_dimensions': (1576, 2344), 'level_count': 1, 'level_dimensions': ((1576, 2344),), 'level_downsamples': [1.0], 'vendor': 'None', 'mpp': (8, 8), 'file_path': None, 'axes': 'YSX'}\n"
     ]
    },
    {
     "name": "stderr",
     "output_type": "stream",
     "text": [
      " 38%|███▊      | 31/81 [00:26<00:43,  1.16it/s]|2024-12-02|14:20:34.903| [WARNING] Metadata: Falling back to TIFF resolution tag for microns-per-pixel (MPP).\n",
      "|2024-12-02|14:20:34.903| [WARNING] Metadata: Objective power inferred from microns-per-pixel (MPP).\n"
     ]
    },
    {
     "name": "stdout",
     "output_type": "stream",
     "text": [
      "A_P000014\n"
     ]
    },
    {
     "name": "stderr",
     "output_type": "stream",
     "text": [
      "|2024-12-02|14:20:35.152| [WARNING] Raw data is None.\n",
      "|2024-12-02|14:20:35.152| [WARNING] Unknown scale (no objective_power or mpp)\n"
     ]
    },
    {
     "name": "stdout",
     "output_type": "stream",
     "text": [
      "{'objective_power': 1.25, 'slide_dimensions': (2792, 3192), 'level_count': 1, 'level_dimensions': ((2792, 3192),), 'level_downsamples': [1.0], 'vendor': 'None', 'mpp': (8, 8), 'file_path': None, 'axes': 'YSX'}\n"
     ]
    },
    {
     "name": "stderr",
     "output_type": "stream",
     "text": [
      " 40%|███▉      | 32/81 [00:27<00:46,  1.06it/s]|2024-12-02|14:20:36.033| [WARNING] Metadata: Falling back to TIFF resolution tag for microns-per-pixel (MPP).\n",
      "|2024-12-02|14:20:36.033| [WARNING] Metadata: Objective power inferred from microns-per-pixel (MPP).\n"
     ]
    },
    {
     "name": "stdout",
     "output_type": "stream",
     "text": [
      "C_P000022\n"
     ]
    },
    {
     "name": "stderr",
     "output_type": "stream",
     "text": [
      "|2024-12-02|14:20:36.349| [WARNING] Raw data is None.\n",
      "|2024-12-02|14:20:36.349| [WARNING] Unknown scale (no objective_power or mpp)\n"
     ]
    },
    {
     "name": "stdout",
     "output_type": "stream",
     "text": [
      "{'objective_power': 1.25, 'slide_dimensions': (2176, 5272), 'level_count': 1, 'level_dimensions': ((2176, 5272),), 'level_downsamples': [1.0], 'vendor': 'None', 'mpp': (8, 8), 'file_path': None, 'axes': 'YSX'}\n"
     ]
    },
    {
     "name": "stderr",
     "output_type": "stream",
     "text": [
      " 41%|████      | 33/81 [00:28<00:44,  1.08it/s]|2024-12-02|14:20:36.916| [WARNING] Metadata: Falling back to TIFF resolution tag for microns-per-pixel (MPP).\n",
      "|2024-12-02|14:20:36.916| [WARNING] Metadata: Objective power inferred from microns-per-pixel (MPP).\n"
     ]
    },
    {
     "name": "stdout",
     "output_type": "stream",
     "text": [
      "B_P000015\n"
     ]
    },
    {
     "name": "stderr",
     "output_type": "stream",
     "text": [
      "|2024-12-02|14:20:37.332| [WARNING] Raw data is None.\n",
      "|2024-12-02|14:20:37.333| [WARNING] Unknown scale (no objective_power or mpp)\n"
     ]
    },
    {
     "name": "stdout",
     "output_type": "stream",
     "text": [
      "{'objective_power': 1.25, 'slide_dimensions': (2368, 5848), 'level_count': 1, 'level_dimensions': ((2368, 5848),), 'level_downsamples': [1.0], 'vendor': 'None', 'mpp': (8, 8), 'file_path': None, 'axes': 'YSX'}\n"
     ]
    },
    {
     "name": "stderr",
     "output_type": "stream",
     "text": [
      " 42%|████▏     | 34/81 [00:29<00:44,  1.05it/s]|2024-12-02|14:20:37.913| [WARNING] Metadata: Falling back to TIFF resolution tag for microns-per-pixel (MPP).\n",
      "|2024-12-02|14:20:37.914| [WARNING] Metadata: Objective power inferred from microns-per-pixel (MPP).\n",
      "|2024-12-02|14:20:37.983| [WARNING] Raw data is None.\n",
      "|2024-12-02|14:20:37.983| [WARNING] Unknown scale (no objective_power or mpp)\n"
     ]
    },
    {
     "name": "stdout",
     "output_type": "stream",
     "text": [
      "D_P000010\n",
      "{'objective_power': 1.25, 'slide_dimensions': (1320, 2016), 'level_count': 1, 'level_dimensions': ((1320, 2016),), 'level_downsamples': [1.0], 'vendor': 'None', 'mpp': (8, 8), 'file_path': None, 'axes': 'YSX'}\n"
     ]
    },
    {
     "name": "stderr",
     "output_type": "stream",
     "text": [
      " 43%|████▎     | 35/81 [00:30<00:38,  1.19it/s]|2024-12-02|14:20:38.503| [WARNING] Metadata: Falling back to TIFF resolution tag for microns-per-pixel (MPP).\n",
      "|2024-12-02|14:20:38.503| [WARNING] Metadata: Objective power inferred from microns-per-pixel (MPP).\n",
      "|2024-12-02|14:20:38.571| [WARNING] Raw data is None.\n",
      "|2024-12-02|14:20:38.572| [WARNING] Unknown scale (no objective_power or mpp)\n"
     ]
    },
    {
     "name": "stdout",
     "output_type": "stream",
     "text": [
      "D_P000015\n",
      "{'objective_power': 1.25, 'slide_dimensions': (1312, 2024), 'level_count': 1, 'level_dimensions': ((1312, 2024),), 'level_downsamples': [1.0], 'vendor': 'None', 'mpp': (8, 8), 'file_path': None, 'axes': 'YSX'}\n"
     ]
    },
    {
     "name": "stderr",
     "output_type": "stream",
     "text": [
      " 44%|████▍     | 36/81 [00:31<00:38,  1.17it/s]|2024-12-02|14:20:39.386| [WARNING] Metadata: Falling back to TIFF resolution tag for microns-per-pixel (MPP).\n",
      "|2024-12-02|14:20:39.386| [WARNING] Metadata: Objective power inferred from microns-per-pixel (MPP).\n",
      "|2024-12-02|14:20:39.464| [WARNING] Raw data is None.\n",
      "|2024-12-02|14:20:39.464| [WARNING] Unknown scale (no objective_power or mpp)\n"
     ]
    },
    {
     "name": "stdout",
     "output_type": "stream",
     "text": [
      "D_P000001\n",
      "{'objective_power': 1.25, 'slide_dimensions': (1312, 2288), 'level_count': 1, 'level_dimensions': ((1312, 2288),), 'level_downsamples': [1.0], 'vendor': 'None', 'mpp': (8, 8), 'file_path': None, 'axes': 'YSX'}\n"
     ]
    },
    {
     "name": "stderr",
     "output_type": "stream",
     "text": [
      " 46%|████▌     | 37/81 [00:31<00:32,  1.37it/s]|2024-12-02|14:20:39.834| [WARNING] Metadata: Falling back to TIFF resolution tag for microns-per-pixel (MPP).\n",
      "|2024-12-02|14:20:39.834| [WARNING] Metadata: Objective power inferred from microns-per-pixel (MPP).\n",
      "|2024-12-02|14:20:39.895| [WARNING] Raw data is None.\n",
      "|2024-12-02|14:20:39.895| [WARNING] Unknown scale (no objective_power or mpp)\n"
     ]
    },
    {
     "name": "stdout",
     "output_type": "stream",
     "text": [
      "D_P000003\n",
      "{'objective_power': 1.25, 'slide_dimensions': (1232, 1888), 'level_count': 1, 'level_dimensions': ((1232, 1888),), 'level_downsamples': [1.0], 'vendor': 'None', 'mpp': (8, 8), 'file_path': None, 'axes': 'YSX'}\n"
     ]
    },
    {
     "name": "stderr",
     "output_type": "stream",
     "text": [
      " 47%|████▋     | 38/81 [00:32<00:33,  1.27it/s]|2024-12-02|14:20:40.752| [WARNING] Metadata: Falling back to TIFF resolution tag for microns-per-pixel (MPP).\n",
      "|2024-12-02|14:20:40.753| [WARNING] Metadata: Objective power inferred from microns-per-pixel (MPP).\n"
     ]
    },
    {
     "name": "stdout",
     "output_type": "stream",
     "text": [
      "A_P000029\n"
     ]
    },
    {
     "name": "stderr",
     "output_type": "stream",
     "text": [
      "|2024-12-02|14:20:41.199| [WARNING] Raw data is None.\n",
      "|2024-12-02|14:20:41.199| [WARNING] Unknown scale (no objective_power or mpp)\n"
     ]
    },
    {
     "name": "stdout",
     "output_type": "stream",
     "text": [
      "{'objective_power': 1.25, 'slide_dimensions': (2880, 5064), 'level_count': 1, 'level_dimensions': ((2880, 5064),), 'level_downsamples': [1.0], 'vendor': 'None', 'mpp': (8, 8), 'file_path': None, 'axes': 'YSX'}\n"
     ]
    },
    {
     "name": "stderr",
     "output_type": "stream",
     "text": [
      " 48%|████▊     | 39/81 [00:34<00:48,  1.16s/it]|2024-12-02|14:20:42.793| [WARNING] Metadata: Falling back to TIFF resolution tag for microns-per-pixel (MPP).\n",
      "|2024-12-02|14:20:42.793| [WARNING] Metadata: Objective power inferred from microns-per-pixel (MPP).\n"
     ]
    },
    {
     "name": "stdout",
     "output_type": "stream",
     "text": [
      "A_P000020\n"
     ]
    },
    {
     "name": "stderr",
     "output_type": "stream",
     "text": [
      "|2024-12-02|14:20:43.059| [WARNING] Raw data is None.\n",
      "|2024-12-02|14:20:43.059| [WARNING] Unknown scale (no objective_power or mpp)\n"
     ]
    },
    {
     "name": "stdout",
     "output_type": "stream",
     "text": [
      "{'objective_power': 1.25, 'slide_dimensions': (3056, 2864), 'level_count': 1, 'level_dimensions': ((3056, 2864),), 'level_downsamples': [1.0], 'vendor': 'None', 'mpp': (8, 8), 'file_path': None, 'axes': 'YSX'}\n"
     ]
    },
    {
     "name": "stderr",
     "output_type": "stream",
     "text": [
      " 49%|████▉     | 40/81 [00:35<00:45,  1.12s/it]|2024-12-02|14:20:43.818| [WARNING] Metadata: Falling back to TIFF resolution tag for microns-per-pixel (MPP).\n",
      "|2024-12-02|14:20:43.818| [WARNING] Metadata: Objective power inferred from microns-per-pixel (MPP).\n"
     ]
    },
    {
     "name": "stdout",
     "output_type": "stream",
     "text": [
      "A_P000033\n"
     ]
    },
    {
     "name": "stderr",
     "output_type": "stream",
     "text": [
      "|2024-12-02|14:20:44.260| [WARNING] Raw data is None.\n",
      "|2024-12-02|14:20:44.260| [WARNING] Unknown scale (no objective_power or mpp)\n"
     ]
    },
    {
     "name": "stdout",
     "output_type": "stream",
     "text": [
      "{'objective_power': 1.25, 'slide_dimensions': (2792, 5400), 'level_count': 1, 'level_dimensions': ((2792, 5400),), 'level_downsamples': [1.0], 'vendor': 'None', 'mpp': (8, 8), 'file_path': None, 'axes': 'YSX'}\n"
     ]
    },
    {
     "name": "stderr",
     "output_type": "stream",
     "text": [
      " 51%|█████     | 41/81 [00:37<00:53,  1.34s/it]|2024-12-02|14:20:45.651| [WARNING] Metadata: Falling back to TIFF resolution tag for microns-per-pixel (MPP).\n",
      "|2024-12-02|14:20:45.652| [WARNING] Metadata: Objective power inferred from microns-per-pixel (MPP).\n",
      "|2024-12-02|14:20:45.827| [WARNING] Raw data is None.\n",
      "|2024-12-02|14:20:45.827| [WARNING] Unknown scale (no objective_power or mpp)\n"
     ]
    },
    {
     "name": "stdout",
     "output_type": "stream",
     "text": [
      "C_P000038\n",
      "{'objective_power': 1.25, 'slide_dimensions': (1408, 4488), 'level_count': 1, 'level_dimensions': ((1408, 4488),), 'level_downsamples': [1.0], 'vendor': 'None', 'mpp': (8, 8), 'file_path': None, 'axes': 'YSX'}\n"
     ]
    },
    {
     "name": "stderr",
     "output_type": "stream",
     "text": [
      " 52%|█████▏    | 42/81 [00:37<00:44,  1.14s/it]|2024-12-02|14:20:46.321| [WARNING] Metadata: Falling back to TIFF resolution tag for microns-per-pixel (MPP).\n",
      "|2024-12-02|14:20:46.321| [WARNING] Metadata: Objective power inferred from microns-per-pixel (MPP).\n",
      "|2024-12-02|14:20:46.468| [WARNING] Raw data is None.\n",
      "|2024-12-02|14:20:46.469| [WARNING] Unknown scale (no objective_power or mpp)\n"
     ]
    },
    {
     "name": "stdout",
     "output_type": "stream",
     "text": [
      "C_P000028\n",
      "{'objective_power': 1.25, 'slide_dimensions': (1304, 4360), 'level_count': 1, 'level_dimensions': ((1304, 4360),), 'level_downsamples': [1.0], 'vendor': 'None', 'mpp': (8, 8), 'file_path': None, 'axes': 'YSX'}\n"
     ]
    },
    {
     "name": "stderr",
     "output_type": "stream",
     "text": [
      " 53%|█████▎    | 43/81 [00:39<00:44,  1.17s/it]|2024-12-02|14:20:47.567| [WARNING] Metadata: Falling back to TIFF resolution tag for microns-per-pixel (MPP).\n",
      "|2024-12-02|14:20:47.568| [WARNING] Metadata: Objective power inferred from microns-per-pixel (MPP).\n"
     ]
    },
    {
     "name": "stdout",
     "output_type": "stream",
     "text": [
      "A_P000024\n"
     ]
    },
    {
     "name": "stderr",
     "output_type": "stream",
     "text": [
      "|2024-12-02|14:20:48.047| [WARNING] Raw data is None.\n",
      "|2024-12-02|14:20:48.047| [WARNING] Unknown scale (no objective_power or mpp)\n"
     ]
    },
    {
     "name": "stdout",
     "output_type": "stream",
     "text": [
      "{'objective_power': 1.25, 'slide_dimensions': (3056, 5200), 'level_count': 1, 'level_dimensions': ((3056, 5200),), 'level_downsamples': [1.0], 'vendor': 'None', 'mpp': (8, 8), 'file_path': None, 'axes': 'YSX'}\n"
     ]
    },
    {
     "name": "stderr",
     "output_type": "stream",
     "text": [
      " 54%|█████▍    | 44/81 [00:40<00:40,  1.10s/it]|2024-12-02|14:20:48.498| [WARNING] Metadata: Falling back to TIFF resolution tag for microns-per-pixel (MPP).\n",
      "|2024-12-02|14:20:48.498| [WARNING] Metadata: Objective power inferred from microns-per-pixel (MPP).\n"
     ]
    },
    {
     "name": "stdout",
     "output_type": "stream",
     "text": [
      "A_P000005\n"
     ]
    },
    {
     "name": "stderr",
     "output_type": "stream",
     "text": [
      "|2024-12-02|14:20:48.737| [WARNING] Raw data is None.\n",
      "|2024-12-02|14:20:48.738| [WARNING] Unknown scale (no objective_power or mpp)\n"
     ]
    },
    {
     "name": "stdout",
     "output_type": "stream",
     "text": [
      "{'objective_power': 1.25, 'slide_dimensions': (2704, 3056), 'level_count': 1, 'level_dimensions': ((2704, 3056),), 'level_downsamples': [1.0], 'vendor': 'None', 'mpp': (8, 8), 'file_path': None, 'axes': 'YSX'}\n"
     ]
    },
    {
     "name": "stderr",
     "output_type": "stream",
     "text": [
      " 56%|█████▌    | 45/81 [00:40<00:34,  1.05it/s]|2024-12-02|14:20:49.108| [WARNING] Metadata: Falling back to TIFF resolution tag for microns-per-pixel (MPP).\n",
      "|2024-12-02|14:20:49.109| [WARNING] Metadata: Objective power inferred from microns-per-pixel (MPP).\n"
     ]
    },
    {
     "name": "stdout",
     "output_type": "stream",
     "text": [
      "B_P000009\n"
     ]
    },
    {
     "name": "stderr",
     "output_type": "stream",
     "text": [
      "|2024-12-02|14:20:49.353| [WARNING] Raw data is None.\n",
      "|2024-12-02|14:20:49.354| [WARNING] Unknown scale (no objective_power or mpp)\n"
     ]
    },
    {
     "name": "stdout",
     "output_type": "stream",
     "text": [
      "{'objective_power': 1.25, 'slide_dimensions': (1496, 5520), 'level_count': 1, 'level_dimensions': ((1496, 5520),), 'level_downsamples': [1.0], 'vendor': 'None', 'mpp': (8, 8), 'file_path': None, 'axes': 'YSX'}\n"
     ]
    },
    {
     "name": "stderr",
     "output_type": "stream",
     "text": [
      " 57%|█████▋    | 46/81 [00:41<00:28,  1.23it/s]|2024-12-02|14:20:49.599| [WARNING] Metadata: Falling back to TIFF resolution tag for microns-per-pixel (MPP).\n",
      "|2024-12-02|14:20:49.600| [WARNING] Metadata: Objective power inferred from microns-per-pixel (MPP).\n"
     ]
    },
    {
     "name": "stdout",
     "output_type": "stream",
     "text": [
      "A_P000036\n"
     ]
    },
    {
     "name": "stderr",
     "output_type": "stream",
     "text": [
      "|2024-12-02|14:20:50.050| [WARNING] Raw data is None.\n",
      "|2024-12-02|14:20:50.050| [WARNING] Unknown scale (no objective_power or mpp)\n"
     ]
    },
    {
     "name": "stdout",
     "output_type": "stream",
     "text": [
      "{'objective_power': 1.25, 'slide_dimensions': (2872, 5320), 'level_count': 1, 'level_dimensions': ((2872, 5320),), 'level_downsamples': [1.0], 'vendor': 'None', 'mpp': (8, 8), 'file_path': None, 'axes': 'YSX'}\n"
     ]
    },
    {
     "name": "stderr",
     "output_type": "stream",
     "text": [
      " 58%|█████▊    | 47/81 [00:42<00:34,  1.02s/it]|2024-12-02|14:20:51.106| [WARNING] Metadata: Falling back to TIFF resolution tag for microns-per-pixel (MPP).\n",
      "|2024-12-02|14:20:51.107| [WARNING] Metadata: Objective power inferred from microns-per-pixel (MPP).\n"
     ]
    },
    {
     "name": "stdout",
     "output_type": "stream",
     "text": [
      "C_P000021\n"
     ]
    },
    {
     "name": "stderr",
     "output_type": "stream",
     "text": [
      "|2024-12-02|14:20:51.309| [WARNING] Raw data is None.\n",
      "|2024-12-02|14:20:51.309| [WARNING] Unknown scale (no objective_power or mpp)\n"
     ]
    },
    {
     "name": "stdout",
     "output_type": "stream",
     "text": [
      "{'objective_power': 1.25, 'slide_dimensions': (1576, 4880), 'level_count': 1, 'level_dimensions': ((1576, 4880),), 'level_downsamples': [1.0], 'vendor': 'None', 'mpp': (8, 8), 'file_path': None, 'axes': 'YSX'}\n"
     ]
    },
    {
     "name": "stderr",
     "output_type": "stream",
     "text": [
      " 59%|█████▉    | 48/81 [00:43<00:28,  1.14it/s]|2024-12-02|14:20:51.643| [WARNING] Metadata: Falling back to TIFF resolution tag for microns-per-pixel (MPP).\n",
      "|2024-12-02|14:20:51.644| [WARNING] Metadata: Objective power inferred from microns-per-pixel (MPP).\n",
      "|2024-12-02|14:20:51.792| [WARNING] Raw data is None.\n",
      "|2024-12-02|14:20:51.793| [WARNING] Unknown scale (no objective_power or mpp)\n"
     ]
    },
    {
     "name": "stdout",
     "output_type": "stream",
     "text": [
      "C_P000037\n",
      "{'objective_power': 1.25, 'slide_dimensions': (1320, 4232), 'level_count': 1, 'level_dimensions': ((1320, 4232),), 'level_downsamples': [1.0], 'vendor': 'None', 'mpp': (8, 8), 'file_path': None, 'axes': 'YSX'}\n"
     ]
    },
    {
     "name": "stderr",
     "output_type": "stream",
     "text": [
      " 60%|██████    | 49/81 [00:43<00:24,  1.31it/s]|2024-12-02|14:20:52.151| [WARNING] Metadata: Falling back to TIFF resolution tag for microns-per-pixel (MPP).\n",
      "|2024-12-02|14:20:52.152| [WARNING] Metadata: Objective power inferred from microns-per-pixel (MPP).\n",
      "|2024-12-02|14:20:52.328| [WARNING] Raw data is None.\n",
      "|2024-12-02|14:20:52.328| [WARNING] Unknown scale (no objective_power or mpp)\n"
     ]
    },
    {
     "name": "stdout",
     "output_type": "stream",
     "text": [
      "B_P000010\n",
      "{'objective_power': 1.25, 'slide_dimensions': (1760, 3640), 'level_count': 1, 'level_dimensions': ((1760, 3640),), 'level_downsamples': [1.0], 'vendor': 'None', 'mpp': (8, 8), 'file_path': None, 'axes': 'YSX'}\n"
     ]
    },
    {
     "name": "stderr",
     "output_type": "stream",
     "text": [
      " 62%|██████▏   | 50/81 [00:44<00:20,  1.54it/s]|2024-12-02|14:20:52.532| [WARNING] Metadata: Falling back to TIFF resolution tag for microns-per-pixel (MPP).\n",
      "|2024-12-02|14:20:52.533| [WARNING] Metadata: Objective power inferred from microns-per-pixel (MPP).\n"
     ]
    },
    {
     "name": "stdout",
     "output_type": "stream",
     "text": [
      "B_P000020\n"
     ]
    },
    {
     "name": "stderr",
     "output_type": "stream",
     "text": [
      "|2024-12-02|14:20:52.914| [WARNING] Raw data is None.\n",
      "|2024-12-02|14:20:52.915| [WARNING] Unknown scale (no objective_power or mpp)\n"
     ]
    },
    {
     "name": "stdout",
     "output_type": "stream",
     "text": [
      "{'objective_power': 1.25, 'slide_dimensions': (2360, 5648), 'level_count': 1, 'level_dimensions': ((2360, 5648),), 'level_downsamples': [1.0], 'vendor': 'None', 'mpp': (8, 8), 'file_path': None, 'axes': 'YSX'}\n"
     ]
    },
    {
     "name": "stderr",
     "output_type": "stream",
     "text": [
      " 63%|██████▎   | 51/81 [00:45<00:21,  1.37it/s]|2024-12-02|14:20:53.438| [WARNING] Metadata: Falling back to TIFF resolution tag for microns-per-pixel (MPP).\n",
      "|2024-12-02|14:20:53.438| [WARNING] Metadata: Objective power inferred from microns-per-pixel (MPP).\n"
     ]
    },
    {
     "name": "stdout",
     "output_type": "stream",
     "text": [
      "B_P000013\n"
     ]
    },
    {
     "name": "stderr",
     "output_type": "stream",
     "text": [
      "|2024-12-02|14:20:53.662| [WARNING] Raw data is None.\n",
      "|2024-12-02|14:20:53.663| [WARNING] Unknown scale (no objective_power or mpp)\n"
     ]
    },
    {
     "name": "stdout",
     "output_type": "stream",
     "text": [
      "{'objective_power': 1.25, 'slide_dimensions': (1760, 4736), 'level_count': 1, 'level_dimensions': ((1760, 4736),), 'level_downsamples': [1.0], 'vendor': 'None', 'mpp': (8, 8), 'file_path': None, 'axes': 'YSX'}\n"
     ]
    },
    {
     "name": "stderr",
     "output_type": "stream",
     "text": [
      " 64%|██████▍   | 52/81 [00:45<00:20,  1.42it/s]|2024-12-02|14:20:54.098| [WARNING] Metadata: Falling back to TIFF resolution tag for microns-per-pixel (MPP).\n",
      "|2024-12-02|14:20:54.099| [WARNING] Metadata: Objective power inferred from microns-per-pixel (MPP).\n"
     ]
    },
    {
     "name": "stdout",
     "output_type": "stream",
     "text": [
      "A_P000006\n"
     ]
    },
    {
     "name": "stderr",
     "output_type": "stream",
     "text": [
      "|2024-12-02|14:20:54.467| [WARNING] Raw data is None.\n",
      "|2024-12-02|14:20:54.467| [WARNING] Unknown scale (no objective_power or mpp)\n"
     ]
    },
    {
     "name": "stdout",
     "output_type": "stream",
     "text": [
      "{'objective_power': 1.25, 'slide_dimensions': (2792, 4160), 'level_count': 1, 'level_dimensions': ((2792, 4160),), 'level_downsamples': [1.0], 'vendor': 'None', 'mpp': (8, 8), 'file_path': None, 'axes': 'YSX'}\n"
     ]
    },
    {
     "name": "stderr",
     "output_type": "stream",
     "text": [
      " 65%|██████▌   | 53/81 [00:47<00:26,  1.07it/s]|2024-12-02|14:20:55.563| [WARNING] Metadata: Falling back to TIFF resolution tag for microns-per-pixel (MPP).\n",
      "|2024-12-02|14:20:55.563| [WARNING] Metadata: Objective power inferred from microns-per-pixel (MPP).\n",
      "|2024-12-02|14:20:55.747| [WARNING] Raw data is None.\n",
      "|2024-12-02|14:20:55.748| [WARNING] Unknown scale (no objective_power or mpp)\n"
     ]
    },
    {
     "name": "stdout",
     "output_type": "stream",
     "text": [
      "D_P000016\n",
      "{'objective_power': 1.25, 'slide_dimensions': (1648, 4160), 'level_count': 1, 'level_dimensions': ((1648, 4160),), 'level_downsamples': [1.0], 'vendor': 'None', 'mpp': (8, 8), 'file_path': None, 'axes': 'YSX'}\n"
     ]
    },
    {
     "name": "stderr",
     "output_type": "stream",
     "text": [
      " 67%|██████▋   | 54/81 [00:47<00:23,  1.13it/s]|2024-12-02|14:20:56.326| [WARNING] Metadata: Falling back to TIFF resolution tag for microns-per-pixel (MPP).\n",
      "|2024-12-02|14:20:56.327| [WARNING] Metadata: Objective power inferred from microns-per-pixel (MPP).\n",
      "|2024-12-02|14:20:56.408| [WARNING] Raw data is None.\n",
      "|2024-12-02|14:20:56.409| [WARNING] Unknown scale (no objective_power or mpp)\n"
     ]
    },
    {
     "name": "stdout",
     "output_type": "stream",
     "text": [
      "D_P000013\n",
      "{'objective_power': 1.25, 'slide_dimensions': (1320, 2280), 'level_count': 1, 'level_dimensions': ((1320, 2280),), 'level_downsamples': [1.0], 'vendor': 'None', 'mpp': (8, 8), 'file_path': None, 'axes': 'YSX'}\n"
     ]
    },
    {
     "name": "stderr",
     "output_type": "stream",
     "text": [
      " 68%|██████▊   | 55/81 [00:48<00:20,  1.28it/s]|2024-12-02|14:20:56.873| [WARNING] Metadata: Falling back to TIFF resolution tag for microns-per-pixel (MPP).\n",
      "|2024-12-02|14:20:56.874| [WARNING] Metadata: Objective power inferred from microns-per-pixel (MPP).\n"
     ]
    },
    {
     "name": "stdout",
     "output_type": "stream",
     "text": [
      "B_P000014\n"
     ]
    },
    {
     "name": "stderr",
     "output_type": "stream",
     "text": [
      "|2024-12-02|14:20:57.158| [WARNING] Raw data is None.\n",
      "|2024-12-02|14:20:57.158| [WARNING] Unknown scale (no objective_power or mpp)\n"
     ]
    },
    {
     "name": "stdout",
     "output_type": "stream",
     "text": [
      "{'objective_power': 1.25, 'slide_dimensions': (2360, 4088), 'level_count': 1, 'level_dimensions': ((2360, 4088),), 'level_downsamples': [1.0], 'vendor': 'None', 'mpp': (8, 8), 'file_path': None, 'axes': 'YSX'}\n"
     ]
    },
    {
     "name": "stderr",
     "output_type": "stream",
     "text": [
      " 69%|██████▉   | 56/81 [00:49<00:19,  1.27it/s]|2024-12-02|14:20:57.674| [WARNING] Metadata: Falling back to TIFF resolution tag for microns-per-pixel (MPP).\n",
      "|2024-12-02|14:20:57.675| [WARNING] Metadata: Objective power inferred from microns-per-pixel (MPP).\n"
     ]
    },
    {
     "name": "stdout",
     "output_type": "stream",
     "text": [
      "A_P000022\n"
     ]
    },
    {
     "name": "stderr",
     "output_type": "stream",
     "text": [
      "|2024-12-02|14:20:58.021| [WARNING] Raw data is None.\n",
      "|2024-12-02|14:20:58.022| [WARNING] Unknown scale (no objective_power or mpp)\n"
     ]
    },
    {
     "name": "stdout",
     "output_type": "stream",
     "text": [
      "{'objective_power': 1.25, 'slide_dimensions': (2712, 4424), 'level_count': 1, 'level_dimensions': ((2712, 4424),), 'level_downsamples': [1.0], 'vendor': 'None', 'mpp': (8, 8), 'file_path': None, 'axes': 'YSX'}\n"
     ]
    },
    {
     "name": "stderr",
     "output_type": "stream",
     "text": [
      " 70%|███████   | 57/81 [00:50<00:18,  1.30it/s]|2024-12-02|14:20:58.407| [WARNING] Metadata: Falling back to TIFF resolution tag for microns-per-pixel (MPP).\n",
      "|2024-12-02|14:20:58.408| [WARNING] Metadata: Objective power inferred from microns-per-pixel (MPP).\n"
     ]
    },
    {
     "name": "stdout",
     "output_type": "stream",
     "text": [
      "B_P000005\n"
     ]
    },
    {
     "name": "stderr",
     "output_type": "stream",
     "text": [
      "|2024-12-02|14:20:58.786| [WARNING] Raw data is None.\n",
      "|2024-12-02|14:20:58.786| [WARNING] Unknown scale (no objective_power or mpp)\n"
     ]
    },
    {
     "name": "stdout",
     "output_type": "stream",
     "text": [
      "{'objective_power': 1.25, 'slide_dimensions': (2344, 5584), 'level_count': 1, 'level_dimensions': ((2344, 5584),), 'level_downsamples': [1.0], 'vendor': 'None', 'mpp': (8, 8), 'file_path': None, 'axes': 'YSX'}\n"
     ]
    },
    {
     "name": "stderr",
     "output_type": "stream",
     "text": [
      " 72%|███████▏  | 58/81 [00:51<00:21,  1.06it/s]|2024-12-02|14:20:59.756| [WARNING] Metadata: Falling back to TIFF resolution tag for microns-per-pixel (MPP).\n",
      "|2024-12-02|14:20:59.757| [WARNING] Metadata: Objective power inferred from microns-per-pixel (MPP).\n"
     ]
    },
    {
     "name": "stdout",
     "output_type": "stream",
     "text": [
      "B_P000019\n"
     ]
    },
    {
     "name": "stderr",
     "output_type": "stream",
     "text": [
      "|2024-12-02|14:20:59.999| [WARNING] Raw data is None.\n",
      "|2024-12-02|14:21:00.000| [WARNING] Unknown scale (no objective_power or mpp)\n"
     ]
    },
    {
     "name": "stdout",
     "output_type": "stream",
     "text": [
      "{'objective_power': 1.25, 'slide_dimensions': (1840, 4864), 'level_count': 1, 'level_dimensions': ((1840, 4864),), 'level_downsamples': [1.0], 'vendor': 'None', 'mpp': (8, 8), 'file_path': None, 'axes': 'YSX'}\n"
     ]
    },
    {
     "name": "stderr",
     "output_type": "stream",
     "text": [
      " 73%|███████▎  | 59/81 [00:51<00:17,  1.25it/s]|2024-12-02|14:21:00.226| [WARNING] Metadata: Falling back to TIFF resolution tag for microns-per-pixel (MPP).\n",
      "|2024-12-02|14:21:00.227| [WARNING] Metadata: Objective power inferred from microns-per-pixel (MPP).\n"
     ]
    },
    {
     "name": "stdout",
     "output_type": "stream",
     "text": [
      "A_P000032\n"
     ]
    },
    {
     "name": "stderr",
     "output_type": "stream",
     "text": [
      "|2024-12-02|14:21:00.605| [WARNING] Raw data is None.\n",
      "|2024-12-02|14:21:00.606| [WARNING] Unknown scale (no objective_power or mpp)\n"
     ]
    },
    {
     "name": "stdout",
     "output_type": "stream",
     "text": [
      "{'objective_power': 1.25, 'slide_dimensions': (2872, 4608), 'level_count': 1, 'level_dimensions': ((2872, 4608),), 'level_downsamples': [1.0], 'vendor': 'None', 'mpp': (8, 8), 'file_path': None, 'axes': 'YSX'}\n"
     ]
    },
    {
     "name": "stderr",
     "output_type": "stream",
     "text": [
      " 74%|███████▍  | 60/81 [00:53<00:20,  1.00it/s]|2024-12-02|14:21:01.669| [WARNING] Metadata: Falling back to TIFF resolution tag for microns-per-pixel (MPP).\n",
      "|2024-12-02|14:21:01.670| [WARNING] Metadata: Objective power inferred from microns-per-pixel (MPP).\n",
      "|2024-12-02|14:21:01.758| [WARNING] Raw data is None.\n",
      "|2024-12-02|14:21:01.758| [WARNING] Unknown scale (no objective_power or mpp)\n"
     ]
    },
    {
     "name": "stdout",
     "output_type": "stream",
     "text": [
      "D_P000004\n",
      "{'objective_power': 1.25, 'slide_dimensions': (1400, 2472), 'level_count': 1, 'level_dimensions': ((1400, 2472),), 'level_downsamples': [1.0], 'vendor': 'None', 'mpp': (8, 8), 'file_path': None, 'axes': 'YSX'}\n"
     ]
    },
    {
     "name": "stderr",
     "output_type": "stream",
     "text": [
      " 75%|███████▌  | 61/81 [00:53<00:15,  1.28it/s]|2024-12-02|14:21:01.957| [WARNING] Metadata: Falling back to TIFF resolution tag for microns-per-pixel (MPP).\n",
      "|2024-12-02|14:21:01.957| [WARNING] Metadata: Objective power inferred from microns-per-pixel (MPP).\n",
      "|2024-12-02|14:21:02.023| [WARNING] Raw data is None.\n",
      "|2024-12-02|14:21:02.024| [WARNING] Unknown scale (no objective_power or mpp)\n"
     ]
    },
    {
     "name": "stdout",
     "output_type": "stream",
     "text": [
      "D_P000018\n",
      "{'objective_power': 1.25, 'slide_dimensions': (1224, 2216), 'level_count': 1, 'level_dimensions': ((1224, 2216),), 'level_downsamples': [1.0], 'vendor': 'None', 'mpp': (8, 8), 'file_path': None, 'axes': 'YSX'}\n"
     ]
    },
    {
     "name": "stderr",
     "output_type": "stream",
     "text": [
      " 77%|███████▋  | 62/81 [00:54<00:16,  1.19it/s]|2024-12-02|14:21:02.940| [WARNING] Metadata: Falling back to TIFF resolution tag for microns-per-pixel (MPP).\n",
      "|2024-12-02|14:21:02.940| [WARNING] Metadata: Objective power inferred from microns-per-pixel (MPP).\n",
      "|2024-12-02|14:21:03.130| [WARNING] Raw data is None.\n",
      "|2024-12-02|14:21:03.131| [WARNING] Unknown scale (no objective_power or mpp)\n"
     ]
    },
    {
     "name": "stdout",
     "output_type": "stream",
     "text": [
      "C_P000039\n",
      "{'objective_power': 1.25, 'slide_dimensions': (1400, 5008), 'level_count': 1, 'level_dimensions': ((1400, 5008),), 'level_downsamples': [1.0], 'vendor': 'None', 'mpp': (8, 8), 'file_path': None, 'axes': 'YSX'}\n"
     ]
    },
    {
     "name": "stderr",
     "output_type": "stream",
     "text": [
      " 78%|███████▊  | 63/81 [00:55<00:14,  1.21it/s]|2024-12-02|14:21:03.726| [WARNING] Metadata: Falling back to TIFF resolution tag for microns-per-pixel (MPP).\n",
      "|2024-12-02|14:21:03.727| [WARNING] Metadata: Objective power inferred from microns-per-pixel (MPP).\n"
     ]
    },
    {
     "name": "stdout",
     "output_type": "stream",
     "text": [
      "B_P000001\n"
     ]
    },
    {
     "name": "stderr",
     "output_type": "stream",
     "text": [
      "|2024-12-02|14:21:04.010| [WARNING] Raw data is None.\n",
      "|2024-12-02|14:21:04.010| [WARNING] Unknown scale (no objective_power or mpp)\n"
     ]
    },
    {
     "name": "stdout",
     "output_type": "stream",
     "text": [
      "{'objective_power': 1.25, 'slide_dimensions': (2528, 3776), 'level_count': 1, 'level_dimensions': ((2528, 3776),), 'level_downsamples': [1.0], 'vendor': 'None', 'mpp': (8, 8), 'file_path': None, 'axes': 'YSX'}\n"
     ]
    },
    {
     "name": "stderr",
     "output_type": "stream",
     "text": [
      " 79%|███████▉  | 64/81 [00:56<00:13,  1.26it/s]|2024-12-02|14:21:04.445| [WARNING] Metadata: Falling back to TIFF resolution tag for microns-per-pixel (MPP).\n",
      "|2024-12-02|14:21:04.446| [WARNING] Metadata: Objective power inferred from microns-per-pixel (MPP).\n"
     ]
    },
    {
     "name": "stdout",
     "output_type": "stream",
     "text": [
      "A_P000003\n"
     ]
    },
    {
     "name": "stderr",
     "output_type": "stream",
     "text": [
      "|2024-12-02|14:21:04.668| [WARNING] Raw data is None.\n",
      "|2024-12-02|14:21:04.669| [WARNING] Unknown scale (no objective_power or mpp)\n"
     ]
    },
    {
     "name": "stdout",
     "output_type": "stream",
     "text": [
      "{'objective_power': 1.25, 'slide_dimensions': (2872, 3064), 'level_count': 1, 'level_dimensions': ((2872, 3064),), 'level_downsamples': [1.0], 'vendor': 'None', 'mpp': (8, 8), 'file_path': None, 'axes': 'YSX'}\n"
     ]
    },
    {
     "name": "stderr",
     "output_type": "stream",
     "text": [
      " 80%|████████  | 65/81 [00:56<00:11,  1.41it/s]|2024-12-02|14:21:04.953| [WARNING] Metadata: Falling back to TIFF resolution tag for microns-per-pixel (MPP).\n",
      "|2024-12-02|14:21:04.954| [WARNING] Metadata: Objective power inferred from microns-per-pixel (MPP).\n"
     ]
    },
    {
     "name": "stdout",
     "output_type": "stream",
     "text": [
      "B_P000004\n"
     ]
    },
    {
     "name": "stderr",
     "output_type": "stream",
     "text": [
      "|2024-12-02|14:21:05.480| [WARNING] Raw data is None.\n",
      "|2024-12-02|14:21:05.481| [WARNING] Unknown scale (no objective_power or mpp)\n"
     ]
    },
    {
     "name": "stdout",
     "output_type": "stream",
     "text": [
      "{'objective_power': 1.25, 'slide_dimensions': (3064, 5904), 'level_count': 1, 'level_dimensions': ((3064, 5904),), 'level_downsamples': [1.0], 'vendor': 'None', 'mpp': (8, 8), 'file_path': None, 'axes': 'YSX'}\n"
     ]
    },
    {
     "name": "stderr",
     "output_type": "stream",
     "text": [
      " 81%|████████▏ | 66/81 [00:57<00:11,  1.30it/s]|2024-12-02|14:21:05.860| [WARNING] Metadata: Falling back to TIFF resolution tag for microns-per-pixel (MPP).\n",
      "|2024-12-02|14:21:05.861| [WARNING] Metadata: Objective power inferred from microns-per-pixel (MPP).\n",
      "|2024-12-02|14:21:06.010| [WARNING] Raw data is None.\n",
      "|2024-12-02|14:21:06.011| [WARNING] Unknown scale (no objective_power or mpp)\n"
     ]
    },
    {
     "name": "stdout",
     "output_type": "stream",
     "text": [
      "C_P000036\n",
      "{'objective_power': 1.25, 'slide_dimensions': (1232, 4880), 'level_count': 1, 'level_dimensions': ((1232, 4880),), 'level_downsamples': [1.0], 'vendor': 'None', 'mpp': (8, 8), 'file_path': None, 'axes': 'YSX'}\n"
     ]
    },
    {
     "name": "stderr",
     "output_type": "stream",
     "text": [
      " 83%|████████▎ | 67/81 [00:57<00:08,  1.56it/s]|2024-12-02|14:21:06.204| [WARNING] Metadata: Falling back to TIFF resolution tag for microns-per-pixel (MPP).\n",
      "|2024-12-02|14:21:06.204| [WARNING] Metadata: Objective power inferred from microns-per-pixel (MPP).\n",
      "|2024-12-02|14:21:06.371| [WARNING] Raw data is None.\n",
      "|2024-12-02|14:21:06.371| [WARNING] Unknown scale (no objective_power or mpp)\n"
     ]
    },
    {
     "name": "stdout",
     "output_type": "stream",
     "text": [
      "A_P000016\n",
      "{'objective_power': 1.25, 'slide_dimensions': (2704, 2480), 'level_count': 1, 'level_dimensions': ((2704, 2480),), 'level_downsamples': [1.0], 'vendor': 'None', 'mpp': (8, 8), 'file_path': None, 'axes': 'YSX'}\n"
     ]
    },
    {
     "name": "stderr",
     "output_type": "stream",
     "text": [
      " 84%|████████▍ | 68/81 [00:58<00:08,  1.54it/s]|2024-12-02|14:21:06.873| [WARNING] Metadata: Falling back to TIFF resolution tag for microns-per-pixel (MPP).\n",
      "|2024-12-02|14:21:06.873| [WARNING] Metadata: Objective power inferred from microns-per-pixel (MPP).\n"
     ]
    },
    {
     "name": "stdout",
     "output_type": "stream",
     "text": [
      "C_P000040\n"
     ]
    },
    {
     "name": "stderr",
     "output_type": "stream",
     "text": [
      "|2024-12-02|14:21:07.125| [WARNING] Raw data is None.\n",
      "|2024-12-02|14:21:07.125| [WARNING] Unknown scale (no objective_power or mpp)\n"
     ]
    },
    {
     "name": "stdout",
     "output_type": "stream",
     "text": [
      "{'objective_power': 1.25, 'slide_dimensions': (1656, 5720), 'level_count': 1, 'level_dimensions': ((1656, 5720),), 'level_downsamples': [1.0], 'vendor': 'None', 'mpp': (8, 8), 'file_path': None, 'axes': 'YSX'}\n"
     ]
    },
    {
     "name": "stderr",
     "output_type": "stream",
     "text": [
      " 85%|████████▌ | 69/81 [00:59<00:07,  1.54it/s]|2024-12-02|14:21:07.519| [WARNING] Metadata: Falling back to TIFF resolution tag for microns-per-pixel (MPP).\n",
      "|2024-12-02|14:21:07.520| [WARNING] Metadata: Objective power inferred from microns-per-pixel (MPP).\n"
     ]
    },
    {
     "name": "stdout",
     "output_type": "stream",
     "text": [
      "A_P000007\n"
     ]
    },
    {
     "name": "stderr",
     "output_type": "stream",
     "text": [
      "|2024-12-02|14:21:07.759| [WARNING] Raw data is None.\n",
      "|2024-12-02|14:21:07.759| [WARNING] Unknown scale (no objective_power or mpp)\n"
     ]
    },
    {
     "name": "stdout",
     "output_type": "stream",
     "text": [
      "{'objective_power': 1.25, 'slide_dimensions': (3056, 3128), 'level_count': 1, 'level_dimensions': ((3056, 3128),), 'level_downsamples': [1.0], 'vendor': 'None', 'mpp': (8, 8), 'file_path': None, 'axes': 'YSX'}\n"
     ]
    },
    {
     "name": "stderr",
     "output_type": "stream",
     "text": [
      " 86%|████████▋ | 70/81 [00:59<00:06,  1.57it/s]|2024-12-02|14:21:08.128| [WARNING] Metadata: Falling back to TIFF resolution tag for microns-per-pixel (MPP).\n",
      "|2024-12-02|14:21:08.129| [WARNING] Metadata: Objective power inferred from microns-per-pixel (MPP).\n"
     ]
    },
    {
     "name": "stdout",
     "output_type": "stream",
     "text": [
      "C_P000025\n"
     ]
    },
    {
     "name": "stderr",
     "output_type": "stream",
     "text": [
      "|2024-12-02|14:21:08.461| [WARNING] Raw data is None.\n",
      "|2024-12-02|14:21:08.461| [WARNING] Unknown scale (no objective_power or mpp)\n"
     ]
    },
    {
     "name": "stdout",
     "output_type": "stream",
     "text": [
      "{'objective_power': 1.25, 'slide_dimensions': (2104, 5392), 'level_count': 1, 'level_dimensions': ((2104, 5392),), 'level_downsamples': [1.0], 'vendor': 'None', 'mpp': (8, 8), 'file_path': None, 'axes': 'YSX'}\n"
     ]
    },
    {
     "name": "stderr",
     "output_type": "stream",
     "text": [
      " 88%|████████▊ | 71/81 [01:00<00:06,  1.45it/s]|2024-12-02|14:21:08.936| [WARNING] Metadata: Falling back to TIFF resolution tag for microns-per-pixel (MPP).\n",
      "|2024-12-02|14:21:08.936| [WARNING] Metadata: Objective power inferred from microns-per-pixel (MPP).\n",
      "|2024-12-02|14:21:09.003| [WARNING] Raw data is None.\n",
      "|2024-12-02|14:21:09.004| [WARNING] Unknown scale (no objective_power or mpp)\n"
     ]
    },
    {
     "name": "stdout",
     "output_type": "stream",
     "text": [
      "D_P000012\n",
      "{'objective_power': 1.25, 'slide_dimensions': (1576, 1568), 'level_count': 1, 'level_dimensions': ((1576, 1568),), 'level_downsamples': [1.0], 'vendor': 'None', 'mpp': (8, 8), 'file_path': None, 'axes': 'YSX'}\n"
     ]
    },
    {
     "name": "stderr",
     "output_type": "stream",
     "text": [
      " 89%|████████▉ | 72/81 [01:01<00:05,  1.62it/s]|2024-12-02|14:21:09.382| [WARNING] Metadata: Falling back to TIFF resolution tag for microns-per-pixel (MPP).\n",
      "|2024-12-02|14:21:09.382| [WARNING] Metadata: Objective power inferred from microns-per-pixel (MPP).\n",
      "|2024-12-02|14:21:09.451| [WARNING] Raw data is None.\n",
      "|2024-12-02|14:21:09.451| [WARNING] Unknown scale (no objective_power or mpp)\n"
     ]
    },
    {
     "name": "stdout",
     "output_type": "stream",
     "text": [
      "D_P000019\n",
      "{'objective_power': 1.25, 'slide_dimensions': (1320, 2080), 'level_count': 1, 'level_dimensions': ((1320, 2080),), 'level_downsamples': [1.0], 'vendor': 'None', 'mpp': (8, 8), 'file_path': None, 'axes': 'YSX'}\n"
     ]
    },
    {
     "name": "stderr",
     "output_type": "stream",
     "text": [
      " 90%|█████████ | 73/81 [01:01<00:04,  1.72it/s]|2024-12-02|14:21:09.888| [WARNING] Metadata: Falling back to TIFF resolution tag for microns-per-pixel (MPP).\n",
      "|2024-12-02|14:21:09.889| [WARNING] Metadata: Objective power inferred from microns-per-pixel (MPP).\n"
     ]
    },
    {
     "name": "stdout",
     "output_type": "stream",
     "text": [
      "C_P000029\n"
     ]
    },
    {
     "name": "stderr",
     "output_type": "stream",
     "text": [
      "|2024-12-02|14:21:10.090| [WARNING] Raw data is None.\n",
      "|2024-12-02|14:21:10.090| [WARNING] Unknown scale (no objective_power or mpp)\n"
     ]
    },
    {
     "name": "stdout",
     "output_type": "stream",
     "text": [
      "{'objective_power': 1.25, 'slide_dimensions': (1664, 4616), 'level_count': 1, 'level_dimensions': ((1664, 4616),), 'level_downsamples': [1.0], 'vendor': 'None', 'mpp': (8, 8), 'file_path': None, 'axes': 'YSX'}\n"
     ]
    },
    {
     "name": "stderr",
     "output_type": "stream",
     "text": [
      " 91%|█████████▏| 74/81 [01:02<00:04,  1.43it/s]|2024-12-02|14:21:10.859| [WARNING] Metadata: Falling back to TIFF resolution tag for microns-per-pixel (MPP).\n",
      "|2024-12-02|14:21:10.860| [WARNING] Metadata: Objective power inferred from microns-per-pixel (MPP).\n",
      "|2024-12-02|14:21:10.953| [WARNING] Raw data is None.\n",
      "|2024-12-02|14:21:10.954| [WARNING] Unknown scale (no objective_power or mpp)\n"
     ]
    },
    {
     "name": "stdout",
     "output_type": "stream",
     "text": [
      "D_P000009\n",
      "{'objective_power': 1.25, 'slide_dimensions': (1408, 2672), 'level_count': 1, 'level_dimensions': ((1408, 2672),), 'level_downsamples': [1.0], 'vendor': 'None', 'mpp': (8, 8), 'file_path': None, 'axes': 'YSX'}\n"
     ]
    },
    {
     "name": "stderr",
     "output_type": "stream",
     "text": [
      " 93%|█████████▎| 75/81 [01:03<00:04,  1.33it/s]|2024-12-02|14:21:11.742| [WARNING] Metadata: Falling back to TIFF resolution tag for microns-per-pixel (MPP).\n",
      "|2024-12-02|14:21:11.742| [WARNING] Metadata: Objective power inferred from microns-per-pixel (MPP).\n"
     ]
    },
    {
     "name": "stdout",
     "output_type": "stream",
     "text": [
      "C_P000035\n"
     ]
    },
    {
     "name": "stderr",
     "output_type": "stream",
     "text": [
      "|2024-12-02|14:21:12.051| [WARNING] Raw data is None.\n",
      "|2024-12-02|14:21:12.051| [WARNING] Unknown scale (no objective_power or mpp)\n"
     ]
    },
    {
     "name": "stdout",
     "output_type": "stream",
     "text": [
      "{'objective_power': 1.25, 'slide_dimensions': (2272, 4944), 'level_count': 1, 'level_dimensions': ((2272, 4944),), 'level_downsamples': [1.0], 'vendor': 'None', 'mpp': (8, 8), 'file_path': None, 'axes': 'YSX'}\n"
     ]
    },
    {
     "name": "stderr",
     "output_type": "stream",
     "text": [
      " 94%|█████████▍| 76/81 [01:04<00:03,  1.32it/s]|2024-12-02|14:21:12.504| [WARNING] Metadata: Falling back to TIFF resolution tag for microns-per-pixel (MPP).\n",
      "|2024-12-02|14:21:12.506| [WARNING] Metadata: Objective power inferred from microns-per-pixel (MPP).\n",
      "|2024-12-02|14:21:12.609| [WARNING] Raw data is None.\n",
      "|2024-12-02|14:21:12.610| [WARNING] Unknown scale (no objective_power or mpp)\n"
     ]
    },
    {
     "name": "stdout",
     "output_type": "stream",
     "text": [
      "D_P000007\n",
      "{'objective_power': 1.25, 'slide_dimensions': (1400, 2864), 'level_count': 1, 'level_dimensions': ((1400, 2864),), 'level_downsamples': [1.0], 'vendor': 'None', 'mpp': (8, 8), 'file_path': None, 'axes': 'YSX'}\n"
     ]
    },
    {
     "name": "stderr",
     "output_type": "stream",
     "text": [
      " 95%|█████████▌| 77/81 [01:04<00:03,  1.33it/s]|2024-12-02|14:21:13.252| [WARNING] Metadata: Falling back to TIFF resolution tag for microns-per-pixel (MPP).\n",
      "|2024-12-02|14:21:13.253| [WARNING] Metadata: Objective power inferred from microns-per-pixel (MPP).\n"
     ]
    },
    {
     "name": "stdout",
     "output_type": "stream",
     "text": [
      "C_P000030\n"
     ]
    },
    {
     "name": "stderr",
     "output_type": "stream",
     "text": [
      "|2024-12-02|14:21:13.564| [WARNING] Raw data is None.\n",
      "|2024-12-02|14:21:13.565| [WARNING] Unknown scale (no objective_power or mpp)\n"
     ]
    },
    {
     "name": "stdout",
     "output_type": "stream",
     "text": [
      "{'objective_power': 1.25, 'slide_dimensions': (2008, 5328), 'level_count': 1, 'level_dimensions': ((2008, 5328),), 'level_downsamples': [1.0], 'vendor': 'None', 'mpp': (8, 8), 'file_path': None, 'axes': 'YSX'}\n"
     ]
    },
    {
     "name": "stderr",
     "output_type": "stream",
     "text": [
      " 96%|█████████▋| 78/81 [01:06<00:02,  1.14it/s]|2024-12-02|14:21:14.429| [WARNING] Metadata: Falling back to TIFF resolution tag for microns-per-pixel (MPP).\n",
      "|2024-12-02|14:21:14.429| [WARNING] Metadata: Objective power inferred from microns-per-pixel (MPP).\n"
     ]
    },
    {
     "name": "stdout",
     "output_type": "stream",
     "text": [
      "A_P000018\n"
     ]
    },
    {
     "name": "stderr",
     "output_type": "stream",
     "text": [
      "|2024-12-02|14:21:14.751| [WARNING] Raw data is None.\n",
      "|2024-12-02|14:21:14.751| [WARNING] Unknown scale (no objective_power or mpp)\n"
     ]
    },
    {
     "name": "stdout",
     "output_type": "stream",
     "text": [
      "{'objective_power': 1.25, 'slide_dimensions': (2960, 3912), 'level_count': 1, 'level_dimensions': ((2960, 3912),), 'level_downsamples': [1.0], 'vendor': 'None', 'mpp': (8, 8), 'file_path': None, 'axes': 'YSX'}\n"
     ]
    },
    {
     "name": "stderr",
     "output_type": "stream",
     "text": [
      " 98%|█████████▊| 79/81 [01:07<00:02,  1.07s/it]|2024-12-02|14:21:15.943| [WARNING] Metadata: Falling back to TIFF resolution tag for microns-per-pixel (MPP).\n",
      "|2024-12-02|14:21:15.943| [WARNING] Metadata: Objective power inferred from microns-per-pixel (MPP).\n"
     ]
    },
    {
     "name": "stdout",
     "output_type": "stream",
     "text": [
      "C_P000034\n"
     ]
    },
    {
     "name": "stderr",
     "output_type": "stream",
     "text": [
      "|2024-12-02|14:21:16.188| [WARNING] Raw data is None.\n",
      "|2024-12-02|14:21:16.188| [WARNING] Unknown scale (no objective_power or mpp)\n"
     ]
    },
    {
     "name": "stdout",
     "output_type": "stream",
     "text": [
      "{'objective_power': 1.25, 'slide_dimensions': (1920, 4560), 'level_count': 1, 'level_dimensions': ((1920, 4560),), 'level_downsamples': [1.0], 'vendor': 'None', 'mpp': (8, 8), 'file_path': None, 'axes': 'YSX'}\n"
     ]
    },
    {
     "name": "stderr",
     "output_type": "stream",
     "text": [
      " 99%|█████████▉| 80/81 [01:08<00:00,  1.01it/s]|2024-12-02|14:21:16.749| [WARNING] Metadata: Falling back to TIFF resolution tag for microns-per-pixel (MPP).\n",
      "|2024-12-02|14:21:16.749| [WARNING] Metadata: Objective power inferred from microns-per-pixel (MPP).\n",
      "|2024-12-02|14:21:16.919| [WARNING] Raw data is None.\n",
      "|2024-12-02|14:21:16.919| [WARNING] Unknown scale (no objective_power or mpp)\n"
     ]
    },
    {
     "name": "stdout",
     "output_type": "stream",
     "text": [
      "C_P000027\n",
      "{'objective_power': 1.25, 'slide_dimensions': (1576, 4232), 'level_count': 1, 'level_dimensions': ((1576, 4232),), 'level_downsamples': [1.0], 'vendor': 'None', 'mpp': (8, 8), 'file_path': None, 'axes': 'YSX'}\n"
     ]
    },
    {
     "name": "stderr",
     "output_type": "stream",
     "text": [
      "100%|██████████| 81/81 [01:09<00:00,  1.17it/s]\n"
     ]
    }
   ],
   "source": [
    "# Path to folder containing all the target WSIs\n",
    "images_folder = \"/home/u1910100/Downloads/Monkey/images/pas-cpg\"\n",
    "# Path to folder containing masks for ROIs for each WSI\n",
    "# tissue_masks_folder = (\n",
    "#     \"/home/u1910100/Downloads/Monkey/images/tissue-masks\"\n",
    "# )\n",
    "# Path to folder containing annotation json files\n",
    "annotations_folder = (\n",
    "    \"/home/u1910100/Downloads/Monkey/annotations/json\"\n",
    ")\n",
    "\n",
    "patch_image_dir = (\n",
    "    \"/home/u1910100/Documents/Monkey/patches_512/images\"\n",
    ")\n",
    "cell_mask_dir = \"/home/u1910100/Documents/Monkey/patches_512/annotations/masks\"\n",
    "json_dir = (\n",
    "    \"/home/u1910100/Documents/Monkey/patches_512/annotations/json\"\n",
    ")\n",
    "\n",
    "for wsi_image_name in tqdm(os.listdir(images_folder)):\n",
    "    wsi_id = extract_id(wsi_image_name)\n",
    "    print(wsi_id)\n",
    "    # WSI path and tissue mask path\n",
    "    wsi_path = os.path.join(images_folder, wsi_image_name)\n",
    "    mask_name = f\"{wsi_id}_mask.tif\"\n",
    "    # mask_path = os.path.join(tissue_masks_folder, mask_name)\n",
    "\n",
    "    # Read WSI and tissue mask\n",
    "    wsi_reader = WSIReader.open(wsi_path)\n",
    "    thumb = wsi_reader.slide_thumbnail()\n",
    "    # plt.imshow(thumb)\n",
    "    # plt.show()\n",
    "\n",
    "    baseline_dims = wsi_reader.slide_dimensions(\n",
    "        resolution=0, units=\"level\"\n",
    "    )\n",
    "    base_mpp = wsi_reader.convert_resolution_units(\n",
    "        input_res=0, input_unit=\"level\", output_unit=\"mpp\"\n",
    "    )\n",
    "    scale_factor = base_mpp[0] / base_mpp[0]\n",
    "\n",
    "    # Annotation file names and paths\n",
    "    inflammatory_json_name = f\"{wsi_id}_inflammatory-cells.json\"\n",
    "    lymphocyte_json_name = f\"{wsi_id}_lymphocytes.json\"\n",
    "    monocyte_json_name = f\"{wsi_id}_monocytes.json\"\n",
    "\n",
    "    inflammatory_json_path = os.path.join(\n",
    "        annotations_folder, inflammatory_json_name\n",
    "    )\n",
    "    lymphocytes_json_path = os.path.join(\n",
    "        annotations_folder, lymphocyte_json_name\n",
    "    )\n",
    "    monocyte_json_path = os.path.join(\n",
    "        annotations_folder, monocyte_json_name\n",
    "    )\n",
    "\n",
    "    inflammatory_annotations = parse_json_annotations(\n",
    "        inflammatory_json_path\n",
    "    )\n",
    "    inflammatory_points = inflammatory_annotations[\"points\"]\n",
    "    inflammatory_points = scale_points(\n",
    "        inflammatory_points, scale_factor\n",
    "    )\n",
    "\n",
    "    lymphocyte_annotations = parse_json_annotations(\n",
    "        lymphocytes_json_path\n",
    "    )\n",
    "    lymphocyte_points = lymphocyte_annotations[\"points\"]\n",
    "    lymphocyte_points = scale_points(lymphocyte_points, scale_factor)\n",
    "    monocyte_annotations = parse_json_annotations(monocyte_json_path)\n",
    "    monocyte_points = monocyte_annotations[\"points\"]\n",
    "    monocyte_points = scale_points(monocyte_points, scale_factor)\n",
    "\n",
    "    # Create tissue mask from rois coords\n",
    "    binary_mask = mask_from_rois(\n",
    "        inflammatory_annotations[\"rois\"],\n",
    "        (\n",
    "            int(np.round(baseline_dims[0] / 32)),\n",
    "            int(np.round(baseline_dims[1] / 32)),\n",
    "        ),\n",
    "    )\n",
    "\n",
    "    # plt.imshow(binary_mask)\n",
    "    # plt.show()\n",
    "\n",
    "    mask_reader = VirtualWSIReader(binary_mask, power=1.25, mpp=8)\n",
    "    print(mask_reader.info.as_dict())\n",
    "    # Extract patches\n",
    "    patch_extractor = get_patch_extractor(\n",
    "        input_img=wsi_reader,\n",
    "        input_mask=binary_mask,\n",
    "        method_name=\"slidingwindow\",\n",
    "        patch_size=(512, 512),\n",
    "        stride=(472, 472),\n",
    "        resolution=0,\n",
    "        units=\"level\",\n",
    "        within_bound=True,\n",
    "        min_mask_ratio=1.0,\n",
    "    )\n",
    "    # print(f\"Number of Patches: {len(patch_extractor)}\")\n",
    "    for idx, patch in enumerate(patch_extractor):\n",
    "        patch = patch_extractor[idx]\n",
    "        # print(idx)\n",
    "        bb = patch_extractor.coordinate_list[idx]\n",
    "\n",
    "        mask_patch = np.ones(shape=(512, 512, 1), dtype=np.uint8)\n",
    "\n",
    "        inflammatory_xs, inflammatory_ys = get_relative_coords(\n",
    "            inflammatory_points, bb, mask_patch[:, :, 0]\n",
    "        )\n",
    "        lymphocyte_xs, lymphocyte_ys = get_relative_coords(\n",
    "            lymphocyte_points, bb, mask_patch[:, :, 0]\n",
    "        )\n",
    "        monocyte_xs, monocyte_ys = get_relative_coords(\n",
    "            monocyte_points, bb, mask_patch[:, :, 0]\n",
    "        )\n",
    "        masked_patch = patch * mask_patch\n",
    "        # fig, axes = plt.subplots(1,2, figsize=(18,18))\n",
    "        # axes[0].imshow(masked_patch)\n",
    "        # axes[0].axis('off')\n",
    "        # axes[1].imshow(masked_patch)\n",
    "        # axes[1].scatter(lymphocyte_xs, lymphocyte_ys, c=\"g\")\n",
    "        # axes[1].scatter(monocyte_xs, monocyte_ys, c=\"b\")\n",
    "        # axes[1].axis('off')\n",
    "        # plt.show()\n",
    "        lympchoyte_coords = []\n",
    "        lympchoyte_coords = list(zip(lymphocyte_xs, lymphocyte_ys))\n",
    "        monocyte_coords = []\n",
    "        monocyte_coords = list(zip(monocyte_xs, monocyte_ys))\n",
    "\n",
    "        save_data(\n",
    "            file_name=wsi_id,\n",
    "            patch_image_dir=patch_image_dir,\n",
    "            cell_mask_dir=cell_mask_dir,\n",
    "            json_dir=json_dir,\n",
    "            patch_image=masked_patch,\n",
    "            bb=bb,\n",
    "            lymphocyte_coords=lympchoyte_coords,\n",
    "            monocyte_coords=monocyte_coords,\n",
    "        )"
   ]
  },
  {
   "cell_type": "markdown",
   "metadata": {},
   "source": [
    "Extract Classification Masks"
   ]
  },
  {
   "cell_type": "code",
   "execution_count": null,
   "metadata": {},
   "outputs": [],
   "source": [
    "from monkey.data.data_utils import open_json_file, write_json_file\n",
    "\n",
    "\n",
    "def extract_patch_and_mask(image, mask, coords, size=36, label=1):\n",
    "    results = []\n",
    "    extractor = get_patch_extractor(\n",
    "        \"point\",\n",
    "        input_img=image,\n",
    "        locations_list=np.array(coords),\n",
    "        patch_size=size,\n",
    "    )\n",
    "    mask_reader = VirtualWSIReader.open(mask)\n",
    "    for i, patch in enumerate(extractor):\n",
    "        x, y = (\n",
    "            extractor.locations_df[\"x\"][i],\n",
    "            extractor.locations_df[\"y\"][i],\n",
    "        )\n",
    "        mask_patch = mask_reader.read_rect((x, y), (size, size))[\n",
    "            :, :, 0\n",
    "        ]\n",
    "        mask_patch = np.where(mask_patch == label, 1, 0)\n",
    "\n",
    "        result_patch = np.zeros(shape=(size, size, 4), dtype=np.uint8)\n",
    "        result_patch[:, :, 0:3] = patch\n",
    "        result_patch[:, :, 3] = mask_patch\n",
    "        results.append(result_patch)\n",
    "    return results\n",
    "\n",
    "\n",
    "# Path to folder containing all the target WSIs\n",
    "nuclick_folder = \"/home/u1910100/Documents/Monkey/patches_256/annotations/nuclick_hovernext\"\n",
    "json_annotation_folder = (\n",
    "    \"/home/u1910100/Documents/Monkey/patches_256/annotations/json\"\n",
    ")\n",
    "\n",
    "save_dir = \"/home/u1910100/Documents/Monkey/classification/patches\"\n",
    "\n",
    "data_labels = {}\n",
    "\n",
    "files = os.listdir(nuclick_folder)\n",
    "\n",
    "for i in tqdm(range(len(files)), leave=False):\n",
    "    file_name = files[i]\n",
    "\n",
    "    file_path = os.path.join(nuclick_folder, file_name)\n",
    "\n",
    "    file_name_without_ext = os.path.splitext(file_name)[0]\n",
    "\n",
    "    json_path = os.path.join(\n",
    "        json_annotation_folder, f\"{file_name_without_ext}.json\"\n",
    "    )\n",
    "    annotation = open_json_file(json_path)\n",
    "    lymphocyte_coords = annotation[\"lymphocytes\"]\n",
    "    monocyte_coords = annotation[\"monocytes\"]\n",
    "\n",
    "    data = np.load(file_path)\n",
    "    data = data.astype(np.uint8)\n",
    "    img = data[:, :, 0:3]\n",
    "\n",
    "    mask = data[:, :, 4]\n",
    "\n",
    "    if len(lymphocyte_coords) > 0:\n",
    "        lymph_results = []\n",
    "        lymph_results = extract_patch_and_mask(\n",
    "            img, mask, lymphocyte_coords, 36\n",
    "        )\n",
    "        for i, data in enumerate(lymph_results):\n",
    "            save_name = f\"{file_name_without_ext}_lymph_{i+1}\"\n",
    "            save_path = os.path.join(save_dir, save_name)\n",
    "            np.save(save_path, data)\n",
    "            data_labels[save_name] = 1\n",
    "\n",
    "    if len(monocyte_coords) > 0:\n",
    "        mono_results = []\n",
    "        mono_results = extract_patch_and_mask(\n",
    "            img, mask, monocyte_coords, 36, label=2\n",
    "        )\n",
    "        for i, data in enumerate(mono_results):\n",
    "            save_name = f\"{file_name_without_ext}_mono_{i+1}\"\n",
    "            save_path = os.path.join(save_dir, save_name)\n",
    "            np.save(save_path, data)\n",
    "            data_labels[save_name] = 2\n",
    "\n",
    "data_labels_save_path = (\n",
    "    \"/home/u1910100/Documents/Monkey/classification/labels.json\"\n",
    ")\n",
    "write_json_file(data_labels_save_path, data_labels)"
   ]
  }
 ],
 "metadata": {
  "kernelspec": {
   "display_name": "tiatoolbox",
   "language": "python",
   "name": "python3"
  },
  "language_info": {
   "codemirror_mode": {
    "name": "ipython",
    "version": 3
   },
   "file_extension": ".py",
   "mimetype": "text/x-python",
   "name": "python",
   "nbconvert_exporter": "python",
   "pygments_lexer": "ipython3",
   "version": "3.11.10"
  }
 },
 "nbformat": 4,
 "nbformat_minor": 2
}
