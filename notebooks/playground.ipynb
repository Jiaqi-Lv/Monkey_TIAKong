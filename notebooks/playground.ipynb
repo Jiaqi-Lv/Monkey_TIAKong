{
 "cells": [
  {
   "cell_type": "code",
   "execution_count": null,
   "metadata": {},
   "outputs": [],
   "source": [
    "import sys\n",
    "\n",
    "sys.path.append(\"../\")"
   ]
  },
  {
   "cell_type": "markdown",
   "metadata": {},
   "source": [
    "A place to test random stuff"
   ]
  },
  {
   "cell_type": "code",
   "execution_count": null,
   "metadata": {},
   "outputs": [],
   "source": [
    "import torch\n",
    "import torch.nn as nn\n",
    "from monkey.model.utils import (\n",
    "    get_classification_metrics,\n",
    "    get_activation_function,\n",
    ")\n",
    "from monkey.model.loss_functions import get_loss_function, dice_coeff\n",
    "import numpy as np\n",
    "from pprint import pprint"
   ]
  },
  {
   "cell_type": "code",
   "execution_count": null,
   "metadata": {},
   "outputs": [],
   "source": [
    "true_mask = torch.zeros(size=(1, 1, 256, 256))\n",
    "true_mask[0, 0, 0, 0] = 1\n",
    "print(true_mask)\n",
    "pred_mask = torch.zeros(size=(1, 1, 256, 256))\n",
    "print(pred_mask)\n",
    "weighted_bce_loss_fn = get_loss_function(\"Weighted_BCE_Jaccard\")\n",
    "weighted_bce_loss_fn.set_weight(1000.0)\n",
    "loss = weighted_bce_loss_fn.compute_loss(pred_mask, true_mask)\n",
    "pprint(loss)"
   ]
  },
  {
   "cell_type": "code",
   "execution_count": null,
   "metadata": {},
   "outputs": [],
   "source": [
    "test = torch.zeros(size=(16, 3, 256, 256))\n",
    "# test[0,0,0,0] = 1\n",
    "\n",
    "no_pos = torch.count_nonzero(test).item()\n",
    "no_negs = torch.numel(test) - no_pos\n",
    "print(no_negs, no_pos)\n",
    "# weight = no_negs / no_pos\n",
    "# print(weight)\n",
    "eps = 1e-6\n",
    "weight_0 = torch.numel(test) / (2 * no_negs + eps)\n",
    "weight_1 = torch.numel(test) / (2 * no_pos + eps)\n",
    "\n",
    "print(weight_0)\n",
    "print(weight_1)"
   ]
  },
  {
   "cell_type": "markdown",
   "metadata": {},
   "source": [
    "CONCH"
   ]
  },
  {
   "cell_type": "code",
   "execution_count": null,
   "metadata": {},
   "outputs": [],
   "source": [
    "from conch.open_clip_custom import (\n",
    "    create_model_from_pretrained,\n",
    "    tokenize,\n",
    "    get_tokenizer,\n",
    ")\n",
    "import torch\n",
    "import os\n",
    "from PIL import Image\n",
    "from pathlib import Path\n",
    "from tqdm.auto import tqdm"
   ]
  },
  {
   "cell_type": "code",
   "execution_count": null,
   "metadata": {},
   "outputs": [],
   "source": [
    "model_cfg = \"conch_ViT-B-16\"\n",
    "device = torch.device(\n",
    "    \"cuda:0\" if torch.cuda.is_available() else \"cpu\"\n",
    ")\n",
    "checkpoint_path = \"/home/u1910100/Downloads/pytorch_model.bin\"\n",
    "model, preprocess = create_model_from_pretrained(\n",
    "    model_cfg, checkpoint_path, device=device\n",
    ")\n",
    "_ = model.eval()\n",
    "\n",
    "tokenizer = get_tokenizer()\n",
    "classes = [\"lymphocyte\", \"monocyte\"]\n",
    "prompts = [\n",
    "    \"a PAS stained image of a lymphocyte\",\n",
    "    \"a PAS stained image of a monocyte\",\n",
    "]\n",
    "\n",
    "tokenized_prompts = tokenize(texts=prompts, tokenizer=tokenizer).to(\n",
    "    device\n",
    ")\n",
    "tokenized_prompts.shape"
   ]
  },
  {
   "cell_type": "code",
   "execution_count": null,
   "metadata": {},
   "outputs": [],
   "source": [
    "from monkey.data.dataset import get_classification_dataloaders\n",
    "from monkey.config import TrainingIOConfig\n",
    "\n",
    "IOconfig = TrainingIOConfig(\n",
    "    dataset_dir=\"/home/u1910100/Documents/Monkey/classification\",\n",
    "    save_dir=\"./\",\n",
    ")\n",
    "IOconfig.set_image_dir(\n",
    "    \"/home/u1910100/Documents/Monkey/classification/patches\"\n",
    ")\n",
    "IOconfig.set_mask_dir(\n",
    "    \"/home/u1910100/Documents/Monkey/classification/patches\"\n",
    ")\n",
    "batch_size = 32\n",
    "train_loader, val_loader = get_classification_dataloaders(\n",
    "    IOconfig,\n",
    "    val_fold=1,\n",
    "    batch_size=batch_size,\n",
    "    do_augmentation=True,\n",
    ")"
   ]
  },
  {
   "cell_type": "code",
   "execution_count": null,
   "metadata": {},
   "outputs": [],
   "source": [
    "pred_probs_list = []\n",
    "true_labels_list = []\n",
    "\n",
    "for data in tqdm(val_loader):\n",
    "    file_ids = data[\"id\"]\n",
    "\n",
    "    images, true_labels = (\n",
    "        data[\"image\"].cuda().float(),\n",
    "        data[\"label\"].cpu().tolist(),\n",
    "    )\n",
    "\n",
    "    true_labels_list.extend(true_labels)\n",
    "    pred_probs = []\n",
    "\n",
    "    with torch.inference_mode():\n",
    "        image_embedings = model.encode_image(images)\n",
    "        text_embedings = model.encode_text(tokenized_prompts)\n",
    "        sim_scores = (\n",
    "            (\n",
    "                image_embedings\n",
    "                @ text_embedings.T\n",
    "                * model.logit_scale.exp()\n",
    "            )\n",
    "            .softmax(dim=-1)\n",
    "            .cpu()\n",
    "            .numpy()\n",
    "        )\n",
    "\n",
    "        pred_probs_list.extend(sim_scores[:, 1])"
   ]
  },
  {
   "cell_type": "code",
   "execution_count": null,
   "metadata": {},
   "outputs": [],
   "source": [
    "from sklearn import metrics\n",
    "import matplotlib.pyplot as plt\n",
    "import numpy as np\n",
    "from monkey.model.utils import get_classification_metrics\n",
    "\n",
    "pred_probs_list = np.array(pred_probs_list)\n",
    "true_labels_list = np.array(true_labels_list)\n",
    "fpr, tpr, thresholds = metrics.roc_curve(\n",
    "    true_labels_list, pred_probs_list\n",
    ")\n",
    "roc_auc = metrics.auc(fpr, tpr)\n",
    "display = metrics.RocCurveDisplay(\n",
    "    fpr=fpr,\n",
    "    tpr=tpr,\n",
    "    roc_auc=roc_auc,\n",
    "    estimator_name=\"cell classifier\",\n",
    ")\n",
    "display.plot()\n",
    "plt.show()\n",
    "\n",
    "thresh = 0.5\n",
    "pred_labels_list = np.where(pred_probs_list > thresh, 1, 0)\n",
    "scores = get_classification_metrics(\n",
    "    true_labels_list, pred_labels_list\n",
    ")\n",
    "print(scores)\n",
    "metrics.ConfusionMatrixDisplay.from_predictions(\n",
    "    true_labels_list,\n",
    "    pred_labels_list,\n",
    "    display_labels=[\"lymphocyte\", \"monocyte\"],\n",
    ")\n",
    "plt.show()"
   ]
  },
  {
   "cell_type": "code",
   "execution_count": null,
   "metadata": {},
   "outputs": [],
   "source": [
    "data = next(iter(val_loader))\n",
    "images = data[\"image\"].to(\"cuda\").float()\n",
    "print(data[\"label\"])\n",
    "\n",
    "with torch.inference_mode():\n",
    "    image_embedings = model.encode_image(images)\n",
    "    text_embedings = model.encode_text(tokenized_prompts)\n",
    "    sim_scores = (\n",
    "        (image_embedings @ text_embedings.T * model.logit_scale.exp())\n",
    "        .softmax(dim=-1)\n",
    "        .cpu()\n",
    "        .numpy()\n",
    "    )\n",
    "\n",
    "pred_class = sim_scores.argmax()\n",
    "print(pred_class)\n",
    "print(sim_scores)\n",
    "print(sim_scores[:, 1])\n",
    "# print(\"Predicted class:\", classes[sim_scores.argmax()])\n",
    "# print(\n",
    "#     \"Normalized similarity scores:\",\n",
    "#     [\n",
    "#         f\"{cls}: {score:.3f}\"\n",
    "#         for cls, score in zip(classes, sim_scores[0])\n",
    "#     ],\n",
    "# )"
   ]
  },
  {
   "cell_type": "markdown",
   "metadata": {},
   "source": [
    "CellViT"
   ]
  },
  {
   "cell_type": "code",
   "execution_count": null,
   "metadata": {},
   "outputs": [],
   "source": [
    "import sys\n",
    "\n",
    "sys.path.append(\"../\")\n",
    "import torch\n",
    "from monkey.model.cellvit.cellvit import CellViT256, CellVit256_Unet\n",
    "\n",
    "model_path = \"/home/u1910100/Downloads/HIPT_vit256_small_dino.pth\"\n",
    "device = \"cuda\"\n",
    "\n",
    "model = CellVit256_Unet(num_decoders=3)\n",
    "\n",
    "model.load_pretrained_encoder(model_path)\n",
    "\n",
    "model.eval()\n",
    "print(model)\n",
    "\n",
    "test = torch.rand(size=(4, 3, 256, 256))\n",
    "out = model(test)\n",
    "print(out.shape)"
   ]
  },
  {
   "cell_type": "markdown",
   "metadata": {},
   "source": [
    "MapDe Filter"
   ]
  },
  {
   "cell_type": "code",
   "execution_count": null,
   "metadata": {},
   "outputs": [],
   "source": [
    "import numpy as np\n",
    "import matplotlib.pyplot as plt\n",
    "import os\n",
    "import random\n",
    "import sys\n",
    "from scipy import ndimage, signal\n",
    "\n",
    "sys.path.append(\"../\")\n",
    "from monkey.data.data_utils import erode_mask, generate_regression_map\n",
    "import cv2\n",
    "from skimage import draw\n",
    "\n",
    "cell_mask = np.zeros(shape=(256, 256), dtype=np.uint8)\n",
    "rr, cc = draw.ellipse(100, 100, 1, 1, shape=cell_mask.shape)\n",
    "# rr, cc = 100, 100\n",
    "cell_mask[rr, cc] = 1\n",
    "plt.imshow(cell_mask)\n",
    "plt.show()\n",
    "\n",
    "\n",
    "def gauss_2d_filter(shape=(11, 11)):\n",
    "    sigma = int((shape[0] - 1) / 6)\n",
    "    m, n = [(ss - 1.0) / 2.0 for ss in shape]\n",
    "    y, x = np.ogrid[-m : m + 1, -n : n + 1]\n",
    "    h = np.exp(-(x * x + y * y) / (2.0 * sigma * sigma))\n",
    "    h[h < np.finfo(h.dtype).eps * h.max()] = 0\n",
    "    sumh = h.sum()\n",
    "    if sumh != 0:\n",
    "        h /= sumh\n",
    "\n",
    "    h = h / (h[int(m), int(n)])\n",
    "    return h\n",
    "\n",
    "\n",
    "dist_filter = gauss_2d_filter(shape=(17, 17))\n",
    "plt.imshow(dist_filter)\n",
    "plt.show()\n",
    "# cell_mask = generate_regression_map(cell_mask, d_thresh=5, alpha=0.5, scale=1)\n",
    "# plt.imshow(cell_mask)\n",
    "# plt.show()\n",
    "\n",
    "cell_mask = signal.convolve2d(cell_mask, dist_filter)\n",
    "print(np.max(cell_mask))\n",
    "plt.imshow(cell_mask)\n",
    "plt.show()"
   ]
  },
  {
   "cell_type": "markdown",
   "metadata": {},
   "source": [
    "Multihead Unet"
   ]
  },
  {
   "cell_type": "code",
   "execution_count": null,
   "metadata": {},
   "outputs": [],
   "source": [
    "import sys\n",
    "\n",
    "sys.path.append(\"../\")\n",
    "from pprint import pprint\n",
    "import torch\n",
    "\n",
    "torch.manual_seed(0)\n",
    "from torchvision.models.efficientnet import (\n",
    "    efficientnet_b0,\n",
    ")\n",
    "from monkey.model.efficientunetb0.architecture import (\n",
    "    get_multihead_efficientunet,\n",
    ")\n",
    "from torchinfo import summary\n",
    "\n",
    "\n",
    "model = get_multihead_efficientunet(\n",
    "    out_channels=[2, 1], pretrained=True\n",
    ")\n",
    "model.eval()\n",
    "model.to(\"cuda\")\n",
    "summary(model, input_size=(1, 3, 256, 256))"
   ]
  },
  {
   "cell_type": "code",
   "execution_count": null,
   "metadata": {},
   "outputs": [],
   "source": [
    "with torch.no_grad():\n",
    "    test_input = torch.ones(\n",
    "        size=(1, 3, 256, 256), dtype=torch.float, device=\"cuda\"\n",
    "    )\n",
    "    model_out = model(test_input)\n",
    "    pprint(model_out)"
   ]
  },
  {
   "cell_type": "markdown",
   "metadata": {},
   "source": [
    "MapDe model"
   ]
  },
  {
   "cell_type": "code",
   "execution_count": null,
   "metadata": {},
   "outputs": [],
   "source": [
    "import sys\n",
    "import torch\n",
    "\n",
    "sys.path.append(\"../\")\n",
    "\n",
    "from monkey.model.mapde.model import MapDe\n",
    "from monkey.data.dataset import get_detection_dataloaders\n",
    "from monkey.config import TrainingIOConfig\n",
    "import matplotlib.pyplot as plt\n",
    "import numpy as np\n",
    "from monkey.data.data_utils import imagenet_denormalise\n",
    "import torch\n",
    "\n",
    "use_nuclick_masks = False\n",
    "batch_size = 1\n",
    "module = \"detection\"\n",
    "\n",
    "IOconfig = TrainingIOConfig(\n",
    "    dataset_dir=\"/home/u1910100/Documents/Monkey/patches_256\",\n",
    "    save_dir=\"./\",\n",
    ")\n",
    "\n",
    "\n",
    "train_loader, val_loader = get_detection_dataloaders(\n",
    "    IOconfig,\n",
    "    val_fold=5,\n",
    "    dataset_name=\"detection\",\n",
    "    batch_size=batch_size,\n",
    "    disk_radius=1,\n",
    "    regression_map=False,\n",
    "    do_augmentation=True,\n",
    "    module=module,\n",
    "    use_nuclick_masks=use_nuclick_masks,\n",
    "    include_background_channel=False,\n",
    ")\n",
    "\n",
    "\n",
    "model = MapDe(3, 30, 50, num_classes=1, filter_size=31)\n",
    "model.eval()\n",
    "# print(model)\n",
    "test_input = torch.ones(size=(4, 3, 252, 252), dtype=torch.float)\n",
    "\n",
    "with torch.no_grad():\n",
    "    out = model(test_input)\n",
    "print(f\"output size = {out.size()}\")\n",
    "# print(torch.max(out))"
   ]
  },
  {
   "cell_type": "code",
   "execution_count": null,
   "metadata": {},
   "outputs": [],
   "source": [
    "data = next(iter(train_loader))\n",
    "\n",
    "fig, axes = plt.subplots(1, 3, figsize=(18, 18))\n",
    "\n",
    "image = data[\"image\"][0].numpy()\n",
    "image = np.moveaxis(image, 0, 2)\n",
    "image = imagenet_denormalise(image)\n",
    "axes[0].imshow(image)\n",
    "\n",
    "mask = data[\"mask\"]\n",
    "mask_filtered = model.blur_cell_points(mask)\n",
    "\n",
    "\n",
    "axes[1].imshow(image, alpha=0.5)\n",
    "mask_filtered_numpy = mask_filtered.numpy()\n",
    "axes[1].imshow(mask_filtered_numpy[0][0], alpha=0.5)\n",
    "axes[2].imshow(mask_filtered_numpy[0][0])\n",
    "plt.show()"
   ]
  },
  {
   "cell_type": "code",
   "execution_count": null,
   "metadata": {},
   "outputs": [],
   "source": [
    "test_logits = torch.rand(size=(2, 3, 252, 252))\n",
    "\n",
    "model.eval()\n",
    "with torch.no_grad():\n",
    "    logits = model(test_logits)\n",
    "    probs = model.logits_to_probs(logits)\n",
    "print(logits)\n",
    "\n",
    "out_masks = model.postproc(logits)\n",
    "out_masks = out_masks[:, np.newaxis, :, :]\n",
    "out_masks = model.blur_cell_points(out_masks)\n",
    "\n",
    "logits = logits.numpy(force=True)\n",
    "probs = probs.numpy(force=True)\n",
    "\n",
    "\n",
    "plt.imshow(logits[0][0])\n",
    "plt.show()\n",
    "print(np.max(logits[0][0]))\n",
    "\n",
    "plt.imshow(probs[0][0])\n",
    "plt.show()\n",
    "\n",
    "# print(np.max(logits))\n",
    "plt.imshow(out_masks[0][0])\n",
    "plt.show()\n",
    "\n",
    "import skimage\n",
    "\n",
    "inflamm_labels = skimage.measure.label(out_masks[0][0])\n",
    "inflamm_stats = skimage.measure.regionprops(\n",
    "    inflamm_labels, intensity_image=probs[0][0]\n",
    ")\n",
    "for region in inflamm_stats:\n",
    "    centroid = region[\"centroid\"]\n",
    "\n",
    "    c, r, confidence = (\n",
    "        centroid[1],\n",
    "        centroid[0],\n",
    "        region[\"mean_intensity\"],\n",
    "    )\n",
    "    print(c, r, confidence)"
   ]
  },
  {
   "cell_type": "markdown",
   "metadata": {},
   "source": [
    "HoverNext"
   ]
  },
  {
   "cell_type": "code",
   "execution_count": null,
   "metadata": {},
   "outputs": [],
   "source": [
    "import sys\n",
    "import torch\n",
    "from torchinfo import summary\n",
    "\n",
    "sys.path.append(\"../\")\n",
    "import numpy as np\n",
    "from monkey.model.hovernext.model import (\n",
    "    get_custom_hovernext,\n",
    "    get_convnext_unet,\n",
    "    get_timm_encoder,\n",
    "    load_encoder_weights,\n",
    ")\n",
    "\n",
    "model = get_custom_hovernext(\n",
    "    pretrained=False,\n",
    "    num_heads=2,\n",
    "    decoders_out_channels=[1, 1],\n",
    "    use_batchnorm=True,\n",
    "    attention_type=\"scse\",\n",
    ")\n",
    "# model = get_convnext_unet(\n",
    "#     out_classes=2, use_batchnorm=True, attention_type=\"scse\"\n",
    "# )\n",
    "checkpoint_path = \"/home/u1910100/Downloads/lizard_convnextv2_large/train/best_model\"\n",
    "model = load_encoder_weights(model, checkpoint_path)\n",
    "model.eval()"
   ]
  },
  {
   "cell_type": "code",
   "execution_count": null,
   "metadata": {},
   "outputs": [],
   "source": [
    "import torch\n",
    "\n",
    "test_input = torch.ones(size=(1, 3, 256, 256))\n",
    "\n",
    "with torch.no_grad():\n",
    "    out = model(test_input)\n",
    "\n",
    "print(out.shape)"
   ]
  },
  {
   "cell_type": "markdown",
   "metadata": {},
   "source": [
    "Pannuke Masks"
   ]
  },
  {
   "cell_type": "code",
   "execution_count": 3,
   "metadata": {},
   "outputs": [
    {
     "data": {
      "image/png": "[encoded data removed]",
      "text/plain": [
       "<Figure size 640x480 with 1 Axes>"
      ]
     },
     "metadata": {},
     "output_type": "display_data"
    },
    {
     "data": {
      "image/png": "[encoded data removed]",
      "text/plain": [
       "<Figure size 640x480 with 1 Axes>"
      ]
     },
     "metadata": {},
     "output_type": "display_data"
    }
   ],
   "source": [
    "import numpy as np\n",
    "import matplotlib.pyplot as plt\n",
    "import sys\n",
    "sys.path.append(\"../\")\n",
    "from monkey.data.data_utils import generate_regression_map,dilate_mask, load_image, load_mask\n",
    "from monkey.data.dataset import class_mask_to_multichannel_mask\n",
    "\n",
    "cell_mask = np.zeros(shape=(256, 256), dtype=np.uint8)\n",
    "cell_mask[100, 100] = 1\n",
    "\n",
    "cell_mask = dilate_mask(cell_mask, 3)\n",
    "\n",
    "plt.imshow(cell_mask)  \n",
    "plt.show()\n",
    "\n",
    "cell_mask = generate_regression_map(cell_mask, d_thresh=7, alpha=3, scale=1)\n",
    "plt.imshow(cell_mask)\n",
    "plt.show()"
   ]
  },
  {
   "cell_type": "code",
   "execution_count": 6,
   "metadata": {},
   "outputs": [
    {
     "data": {
      "image/png": "[encoded data removed]",
      "text/plain": [
       "<Figure size 640x480 with 1 Axes>"
      ]
     },
     "metadata": {},
     "output_type": "display_data"
    },
    {
     "data": {
      "image/png": "[encoded data removed]",
      "text/plain": [
       "<Figure size 640x480 with 1 Axes>"
      ]
     },
     "metadata": {},
     "output_type": "display_data"
    },
    {
     "data": {
      "image/png": "[encoded data removed]",
      "text/plain": [
       "<Figure size 640x480 with 1 Axes>"
      ]
     },
     "metadata": {},
     "output_type": "display_data"
    }
   ],
   "source": [
    "mask_path = \"/home/u1910100/Documents/Monkey/patches_256/annotations/masks/C_P000029_18592_66528_18848_66784.npy\"\n",
    "mask = np.load(mask_path)\n",
    "class_mask = class_mask_to_multichannel_mask(mask)\n",
    "\n",
    "plt.imshow(class_mask[0])\n",
    "plt.show()\n",
    "plt.imshow(class_mask[1])\n",
    "plt.show()\n",
    "\n",
    "import scipy.ndimage as ndi\n",
    "dist = ndi.distance_transform_edt(class_mask[0] == 0)\n",
    "M = (np.exp(3 * (1 - dist / 7)) - 1) / (\n",
    "    np.exp(3) - 1\n",
    ")\n",
    "M[M < 0] = 0\n",
    "M *= 1\n",
    "\n",
    "plt.imshow(M)\n",
    "plt.show()"
   ]
  },
  {
   "cell_type": "code",
   "execution_count": null,
   "metadata": {},
   "outputs": [],
   "source": []
  }
 ],
 "metadata": {
  "kernelspec": {
   "display_name": "tiatoolbox",
   "language": "python",
   "name": "python3"
  },
  "language_info": {
   "codemirror_mode": {
    "name": "ipython",
    "version": 3
   },
   "file_extension": ".py",
   "mimetype": "text/x-python",
   "name": "python",
   "nbconvert_exporter": "python",
   "pygments_lexer": "ipython3",
   "version": "3.11.10"
  }
 },
 "nbformat": 4,
 "nbformat_minor": 2
}
