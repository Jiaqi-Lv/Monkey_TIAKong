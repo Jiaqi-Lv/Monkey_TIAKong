{
 "cells": [
  {
   "cell_type": "code",
   "execution_count": 1,
   "metadata": {},
   "outputs": [
    {
     "name": "stderr",
     "output_type": "stream",
     "text": [
      "/home/u1910100/miniconda3/envs/tiatoolbox/lib/python3.11/site-packages/torchvision/io/image.py:13: UserWarning: Failed to load image Python extension: '/home/u1910100/miniconda3/envs/tiatoolbox/lib/python3.11/site-packages/torchvision/image.so: undefined symbol: _ZN3c1017RegisterOperatorsD1Ev'If you don't plan on using image functionality from `torchvision.io`, you can ignore this warning. Otherwise, there might be something wrong with your environment. Did you have `libjpeg` or `libpng` installed before building `torchvision` from source?\n",
      "  warn(\n",
      "|2024-11-04|13:33:06.504| [WARNING] /home/u1910100/miniconda3/envs/tiatoolbox/lib/python3.11/site-packages/umap/distances.py:1063: NumbaDeprecationWarning: The 'nopython' keyword argument was not supplied to the 'numba.jit' decorator. The implicit default value for this argument is currently False, but it will be changed to True in Numba 0.59.0. See https://numba.readthedocs.io/en/stable/reference/deprecation.html#deprecation-of-object-mode-fall-back-behaviour-when-using-jit for details.\n",
      "  @numba.jit()\n",
      "\n",
      "|2024-11-04|13:33:06.505| [WARNING] /home/u1910100/miniconda3/envs/tiatoolbox/lib/python3.11/site-packages/umap/distances.py:1071: NumbaDeprecationWarning: The 'nopython' keyword argument was not supplied to the 'numba.jit' decorator. The implicit default value for this argument is currently False, but it will be changed to True in Numba 0.59.0. See https://numba.readthedocs.io/en/stable/reference/deprecation.html#deprecation-of-object-mode-fall-back-behaviour-when-using-jit for details.\n",
      "  @numba.jit()\n",
      "\n",
      "|2024-11-04|13:33:06.506| [WARNING] /home/u1910100/miniconda3/envs/tiatoolbox/lib/python3.11/site-packages/umap/distances.py:1086: NumbaDeprecationWarning: The 'nopython' keyword argument was not supplied to the 'numba.jit' decorator. The implicit default value for this argument is currently False, but it will be changed to True in Numba 0.59.0. See https://numba.readthedocs.io/en/stable/reference/deprecation.html#deprecation-of-object-mode-fall-back-behaviour-when-using-jit for details.\n",
      "  @numba.jit()\n",
      "\n",
      "|2024-11-04|13:33:08.384| [WARNING] /home/u1910100/miniconda3/envs/tiatoolbox/lib/python3.11/site-packages/umap/umap_.py:660: NumbaDeprecationWarning: The 'nopython' keyword argument was not supplied to the 'numba.jit' decorator. The implicit default value for this argument is currently False, but it will be changed to True in Numba 0.59.0. See https://numba.readthedocs.io/en/stable/reference/deprecation.html#deprecation-of-object-mode-fall-back-behaviour-when-using-jit for details.\n",
      "  @numba.jit()\n",
      "\n"
     ]
    }
   ],
   "source": [
    "import numpy as np\n",
    "import matplotlib.pyplot as plt\n",
    "from monkey.model.efficientunetb0.architecture import (\n",
    "    get_efficientunet_b0_MBConv,\n",
    ")\n",
    "import skimage\n",
    "import cv2\n",
    "import torch\n",
    "from monkey.config import TrainingIOConfig\n",
    "from monkey.data.dataset import get_dataloaders\n",
    "from monkey.data.data_utils import (\n",
    "    imagenet_denormalise,\n",
    "    load_json_annotation,\n",
    ")\n",
    "from tqdm import tqdm\n",
    "import segmentation_models_pytorch as smp\n",
    "from monkey.model.utils import get_patch_F1_score"
   ]
  },
  {
   "cell_type": "code",
   "execution_count": 2,
   "metadata": {},
   "outputs": [],
   "source": [
    "def erode_mask(mask):\n",
    "    kernel = cv2.getStructuringElement(cv2.MORPH_ELLIPSE, (3, 3))\n",
    "    mask = cv2.erode(mask, kernel, iterations=1)\n",
    "    return mask"
   ]
  },
  {
   "cell_type": "code",
   "execution_count": 3,
   "metadata": {},
   "outputs": [
    {
     "name": "stdout",
     "output_type": "stream",
     "text": [
      "[4889, 10051]\n",
      "train patches: 14940\n",
      "test patches: 5215\n"
     ]
    }
   ],
   "source": [
    "model = get_efficientunet_b0_MBConv(pretrained=False)\n",
    "# model = smp.Unet(\n",
    "#     encoder_name=\"mit_b5\",\n",
    "#     encoder_weights=None,\n",
    "#     decoder_attention_type=\"scse\",\n",
    "#     in_channels=3,\n",
    "#     classes=1,\n",
    "# )\n",
    "\n",
    "val_fold = 1\n",
    "\n",
    "checkpoint_path = f\"/home/u1910100/Documents/Monkey/runs/efficientunetb0/fold_{val_fold}/epoch_100.pth\"\n",
    "checkpoint = torch.load(checkpoint_path)\n",
    "model.load_state_dict(checkpoint[\"model\"])\n",
    "model.to(\"cuda\")\n",
    "\n",
    "IOconfig = TrainingIOConfig(\n",
    "    dataset_dir=\"/home/u1910100/Documents/Monkey/patches_256\",\n",
    "    save_dir=f\"./\",\n",
    ")\n",
    "\n",
    "# Get dataloaders for task\n",
    "train_loader, val_loader = get_dataloaders(\n",
    "    IOconfig,\n",
    "    val_fold=val_fold,\n",
    "    task=1,\n",
    "    batch_size=1,\n",
    "    disk_radius=11,\n",
    "    do_augmentation=False,\n",
    ")"
   ]
  },
  {
   "cell_type": "code",
   "execution_count": 4,
   "metadata": {},
   "outputs": [
    {
     "name": "stdout",
     "output_type": "stream",
     "text": [
      "threshold 0.3\n"
     ]
    },
    {
     "name": "stderr",
     "output_type": "stream",
     "text": [
      "  0%|          | 0/5215 [00:00<?, ?it/s]|2024-11-04|13:33:10.105| [WARNING] /tmp/ipykernel_504470/4006177353.py:51: UserWarning: Only one label was provided to `remove_small_objects`. Did you mean to use a boolean array?\n",
      "  out_mask = skimage.morphology.remove_small_objects(\n",
      "\n",
      "100%|██████████| 5215/5215 [01:08<00:00, 76.36it/s]\n"
     ]
    },
    {
     "name": "stdout",
     "output_type": "stream",
     "text": [
      "Avg F1  0.38854861171068533\n",
      "Median F1  0.46153846153846156\n",
      "Avg Precision  0.4318193696339317\n",
      "Avg Recall  0.4268606708233473\n",
      "threshold 0.5\n"
     ]
    },
    {
     "name": "stderr",
     "output_type": "stream",
     "text": [
      "100%|██████████| 5215/5215 [01:06<00:00, 78.11it/s]\n"
     ]
    },
    {
     "name": "stdout",
     "output_type": "stream",
     "text": [
      "Avg F1  0.383871991152216\n",
      "Median F1  0.45161290322580644\n",
      "Avg Precision  0.43562698485630075\n",
      "Avg Recall  0.41355695917167185\n",
      "threshold 0.7\n"
     ]
    },
    {
     "name": "stderr",
     "output_type": "stream",
     "text": [
      "100%|██████████| 5215/5215 [01:07<00:00, 77.25it/s]\n"
     ]
    },
    {
     "name": "stdout",
     "output_type": "stream",
     "text": [
      "Avg F1  0.376449108022764\n",
      "Median F1  0.4444444444444444\n",
      "Avg Precision  0.43699779074247375\n",
      "Avg Recall  0.3978741489193381\n",
      "threshold 0.9\n"
     ]
    },
    {
     "name": "stderr",
     "output_type": "stream",
     "text": [
      "100%|██████████| 5215/5215 [01:07<00:00, 77.44it/s]"
     ]
    },
    {
     "name": "stdout",
     "output_type": "stream",
     "text": [
      "Avg F1  0.3605555780744407\n",
      "Median F1  0.4\n",
      "Avg Precision  0.4432272956782587\n",
      "Avg Recall  0.3664550338757106\n",
      "best threshold: 0.3\n",
      "best F1: 0.38854861171068533\n"
     ]
    },
    {
     "name": "stderr",
     "output_type": "stream",
     "text": [
      "\n"
     ]
    }
   ],
   "source": [
    "thresholds = [0.3, 0.5, 0.7, 0.9]\n",
    "# thresholds = [0.9]\n",
    "best_thresh = thresholds[0]\n",
    "best_F1 = 0\n",
    "\n",
    "for thresh in thresholds:\n",
    "    print(f\"threshold {thresh}\")\n",
    "    counter = 0\n",
    "    sum_F1 = []\n",
    "    sum_precison = []\n",
    "    sum_recall = []\n",
    "    for data in tqdm(val_loader):\n",
    "        file_ids = data[\"id\"]\n",
    "        # print(file_ids)\n",
    "        annotation_dict = load_json_annotation(file_ids[0], IOconfig)\n",
    "        lymphocyte_coords = annotation_dict[\"lymphocytes\"]\n",
    "        monocyte_coords = annotation_dict[\"monocytes\"]\n",
    "        overall_coords = []\n",
    "        overall_coords.extend(lymphocyte_coords)\n",
    "        overall_coords.extend(monocyte_coords)\n",
    "\n",
    "        images = data[\"image\"].cuda().float()\n",
    "        gt_masks = data[\"mask\"]\n",
    "\n",
    "        image_np = images[0]\n",
    "        image_np = image_np.cpu().numpy()\n",
    "        gt_mask_np = gt_masks[0]\n",
    "        gt_mask_np = gt_mask_np.cpu().numpy()\n",
    "\n",
    "        image_np = np.moveaxis(image_np, 0, 2)\n",
    "        image_np = imagenet_denormalise(image_np)\n",
    "\n",
    "        # fig, axs = plt.subplots(1, 4, figsize=(10,10))\n",
    "        # axs[0].imshow(image_np)\n",
    "        # axs[0].title.set_text(\"Image\")\n",
    "        # axs[1].imshow(gt_mask_np[0], cmap='gray')\n",
    "        # axs[1].title.set_text(\"Ground Truth\")\n",
    "\n",
    "        with torch.no_grad():\n",
    "            out = model(images)\n",
    "            out = torch.sigmoid(out)\n",
    "            # out = torch.relu(out)\n",
    "\n",
    "        out = out.cpu().detach().numpy()[0][0]\n",
    "\n",
    "        # axs[3].imshow(out, cmap='jet')\n",
    "\n",
    "        out_mask = np.where(out >= thresh, 1, 0)\n",
    "        # # out_mask = erode_mask(out_mask)\n",
    "\n",
    "        out_mask = skimage.morphology.remove_small_objects(\n",
    "            ar=out_mask, min_size=32\n",
    "        )\n",
    "        out_mask = out_mask.astype(np.uint8)\n",
    "\n",
    "        metrics = get_patch_F1_score(out_mask, gt_mask_np[0], out)\n",
    "        f1, precision, recall = (\n",
    "            metrics[\"F1\"],\n",
    "            metrics[\"Precision\"],\n",
    "            metrics[\"Recall\"],\n",
    "        )\n",
    "\n",
    "        # axs[2].imshow(out_mask, cmap=\"gray\")\n",
    "        # axs[2].title.set_text(\"Prediction\")\n",
    "\n",
    "        # for ax in fig.axes:\n",
    "        #     ax.axis(\"off\")\n",
    "        # plt.show()\n",
    "\n",
    "        sum_F1.append(f1)\n",
    "        sum_precison.append(precision)\n",
    "        sum_recall.append(recall)\n",
    "\n",
    "        # counter +=1\n",
    "        # if counter > 20:\n",
    "        #     break\n",
    "\n",
    "    sum_F1 = [x for x in sum_F1 if x is not None]\n",
    "    sum_precison = [x for x in sum_precison if x is not None]\n",
    "    sum_recall = [x for x in sum_recall if x is not None]\n",
    "\n",
    "    print(\"Avg F1 \", np.mean(sum_F1))\n",
    "    print(\"Median F1 \", np.median(sum_F1))\n",
    "    print(\"Avg Precision \", np.mean(sum_precison))\n",
    "    print(\"Avg Recall \", np.mean(sum_recall))\n",
    "\n",
    "    if np.mean(sum_F1) > best_F1:\n",
    "        best_F1 = np.mean(sum_F1)\n",
    "        best_thresh = thresh\n",
    "\n",
    "print(f\"best threshold: {best_thresh}\")\n",
    "print(f\"best F1: {best_F1}\")"
   ]
  }
 ],
 "metadata": {
  "kernelspec": {
   "display_name": "tiatoolbox",
   "language": "python",
   "name": "python3"
  },
  "language_info": {
   "codemirror_mode": {
    "name": "ipython",
    "version": 3
   },
   "file_extension": ".py",
   "mimetype": "text/x-python",
   "name": "python",
   "nbconvert_exporter": "python",
   "pygments_lexer": "ipython3",
   "version": "3.11.5"
  }
 },
 "nbformat": 4,
 "nbformat_minor": 2
}
